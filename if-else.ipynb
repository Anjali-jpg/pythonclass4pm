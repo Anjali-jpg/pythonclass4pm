{
 "cells": [
  {
   "cell_type": "code",
   "execution_count": 14,
   "metadata": {},
   "outputs": [
    {
     "name": "stdout",
     "output_type": "stream",
     "text": [
      "enter year =2022\n",
      "it is not a leap year\n"
     ]
    }
   ],
   "source": [
    "year=int(input(\"enter year =\"))\n",
    "if year%4 == 0:\n",
    "         print(\"it is leap year\")\n",
    "else:\n",
    "         print(\"it is not a leap year\")"
   ]
  },
  {
   "cell_type": "code",
   "execution_count": 16,
   "metadata": {},
   "outputs": [
    {
     "name": "stdout",
     "output_type": "stream",
     "text": [
      "enter year =2024\n",
      "it is not a leap year\n"
     ]
    }
   ],
   "source": [
    "year=int(input(\"enter year =\"))\n",
    "if year%4 == 0 and year%400==0:\n",
    "         print(\"it is leap year\")\n",
    "else:\n",
    "         print(\"it is not a leap year\")"
   ]
  },
  {
   "cell_type": "code",
   "execution_count": 18,
   "metadata": {},
   "outputs": [
    {
     "name": "stdout",
     "output_type": "stream",
     "text": [
      "enter year =2021\n",
      "it is not a leap year\n"
     ]
    }
   ],
   "source": [
    "year=int(input(\"enter year =\"))\n",
    "if year%4 == 0 or year%400==0:\n",
    "         print(\"it is leap year\")\n",
    "else:\n",
    "         print(\"it is not a leap year\")"
   ]
  },
  {
   "cell_type": "code",
   "execution_count": null,
   "metadata": {},
   "outputs": [],
   "source": [
    "#if else statements\n"
   ]
  },
  {
   "cell_type": "code",
   "execution_count": 6,
   "metadata": {},
   "outputs": [
    {
     "name": "stdout",
     "output_type": "stream",
     "text": [
      "enter a = 10\n",
      "default\n"
     ]
    }
   ],
   "source": [
    "a = int(input(\"enter a = \"))\n",
    "if a<10:\n",
    "    print(\"a is greater\")\n",
    "elif a>10:\n",
    "    print(\"a is lesser\")\n",
    "else:\n",
    "    print(\"default\")"
   ]
  },
  {
   "cell_type": "code",
   "execution_count": 8,
   "metadata": {},
   "outputs": [
    {
     "name": "stdout",
     "output_type": "stream",
     "text": [
      "enter a =2\n",
      "even number\n"
     ]
    }
   ],
   "source": [
    "a = int(input(\"enter a =\"))\n",
    "if a%2==0:\n",
    "    print(\"even number\")\n",
    "else:\n",
    "    print(\"odd number\")"
   ]
  },
  {
   "cell_type": "code",
   "execution_count": 10,
   "metadata": {},
   "outputs": [
    {
     "name": "stdout",
     "output_type": "stream",
     "text": [
      "enter a =2\n",
      "enter b =1\n",
      "a is greater\n"
     ]
    }
   ],
   "source": [
    "a=int(input(\"enter a =\"))\n",
    "b=int(input(\"enter b =\"))\n",
    "if a>b:\n",
    "    print(\"a is greater\")\n",
    "else:\n",
    "    print(\"b is greater\")\n",
    "    "
   ]
  },
  {
   "cell_type": "code",
   "execution_count": 13,
   "metadata": {},
   "outputs": [
    {
     "name": "stdout",
     "output_type": "stream",
     "text": [
      "enter a =1\n",
      "enter b =10\n",
      "enter c =3\n",
      "b is greater\n"
     ]
    }
   ],
   "source": [
    "a=int(input(\"enter a =\"))\n",
    "b=int(input(\"enter b =\"))\n",
    "c=int(input(\"enter c =\"))\n",
    "if a>b and a>c:\n",
    "    print(\"a is greater\")\n",
    "elif b>a and b>c:\n",
    "    print(\"b is greater\")\n",
    "else:\n",
    "    print(\"c is greater\")\n",
    "    "
   ]
  },
  {
   "cell_type": "code",
   "execution_count": 14,
   "metadata": {},
   "outputs": [
    {
     "name": "stdout",
     "output_type": "stream",
     "text": [
      "enter a =10\n",
      "enter b =20\n",
      "enter c =30\n",
      "b is greater\n"
     ]
    }
   ],
   "source": [
    "a=int(input(\"enter a =\"))\n",
    "b=int(input(\"enter b =\"))\n",
    "c=int(input(\"enter c =\"))\n",
    "if a>b or a>c:\n",
    "    print(\"a is greater\")\n",
    "elif b>a or b>c:\n",
    "    print(\"b is greater\")\n",
    "else:\n",
    "    print(\"c is greater\")\n",
    "    "
   ]
  },
  {
   "cell_type": "code",
   "execution_count": null,
   "metadata": {},
   "outputs": [],
   "source": [
    "#simple calculator\n"
   ]
  },
  {
   "cell_type": "code",
   "execution_count": 19,
   "metadata": {},
   "outputs": [
    {
     "name": "stdout",
     "output_type": "stream",
     "text": [
      "enter a = 2\n",
      "enter b = 2\n",
      "enter + - * / \n",
      "invalid\n"
     ]
    }
   ],
   "source": [
    "a=int(input(\"enter a = \"))\n",
    "b=int(input(\"enter b = \"))\n",
    "o=input(\"enter + - * / \")\n",
    "if o == '+':\n",
    "    print(a+b)\n",
    "elif o == '-':\n",
    "    print(a-b)\n",
    "elif o == '*':\n",
    "    print(a*b)\n",
    "elif o == '/':\n",
    "    print(a/b)\n",
    "else:\n",
    "    print(\"invalid\")\n",
    "    "
   ]
  },
  {
   "cell_type": "code",
   "execution_count": 30,
   "metadata": {},
   "outputs": [
    {
     "name": "stdout",
     "output_type": "stream",
     "text": [
      "enter marks =89\n",
      "distinction\n"
     ]
    }
   ],
   "source": [
    "per = float(input(\"enter marks =\"))\n",
    "if per>80 or per==80:\n",
    "    print(\"distinction\")\n",
    "elif per>70 or per==70:\n",
    "    print(\"first class\")\n",
    "elif per>60 and per==60:\n",
    "    print(\"second class\")\n",
    "else:\n",
    "    print(\"fail!!\")"
   ]
  },
  {
   "cell_type": "code",
   "execution_count": 8,
   "metadata": {},
   "outputs": [
    {
     "name": "stdout",
     "output_type": "stream",
     "text": [
      "enter a=12\n",
      "not correct\n"
     ]
    }
   ],
   "source": [
    "a=float(input(\"enter a=\"))\n",
    "if a<=5:\n",
    "    print(\"correct\")\n",
    "else:\n",
    "    print(\"not correct\")"
   ]
  },
  {
   "cell_type": "code",
   "execution_count": 5,
   "metadata": {},
   "outputs": [
    {
     "name": "stdout",
     "output_type": "stream",
     "text": [
      "enter status of life=mixture\n",
      "enter h m m\n",
      "life is mixture of happiness and sad\n"
     ]
    }
   ],
   "source": [
    "life=input(\"enter status of life=\")\n",
    "l=input(\"enter h m \")\n",
    "if l=='h':\n",
    "    print(\"life is happier\")\n",
    "elif l=='m':\n",
    "    print(\"life is mixture of happiness and sad\")\n",
    "else:\n",
    "    print(\"life is sad\")"
   ]
  },
  {
   "cell_type": "code",
   "execution_count": null,
   "metadata": {},
   "outputs": [],
   "source": [
    "#nested if-else\n"
   ]
  },
  {
   "cell_type": "code",
   "execution_count": 9,
   "metadata": {},
   "outputs": [
    {
     "name": "stdout",
     "output_type": "stream",
     "text": [
      "enter a=10\n",
      "enter b=20\n",
      "enter c=30\n",
      "a is lesser\n"
     ]
    }
   ],
   "source": [
    "a=int(input(\"enter a=\"))\n",
    "b=int(input(\"enter b=\"))\n",
    "c=int(input(\"enter c=\"))\n",
    "if a<b:\n",
    "    if a<c:\n",
    "        print(\"a is lesser\")\n",
    "    else:\n",
    "        print(\"c is greater\")\n",
    "else:\n",
    "    print(\"default\")"
   ]
  },
  {
   "cell_type": "code",
   "execution_count": 1,
   "metadata": {},
   "outputs": [
    {
     "name": "stdout",
     "output_type": "stream",
     "text": [
      "Yes, apple is a fruit!\n"
     ]
    }
   ],
   "source": [
    "fruits = [\"apple\", \"banana\"]\n",
    "if \"apple\" in fruits:\n",
    "  print(\"Yes, apple is a fruit!\")"
   ]
  },
  {
   "cell_type": "code",
   "execution_count": 2,
   "metadata": {},
   "outputs": [
    {
     "name": "stdout",
     "output_type": "stream",
     "text": [
      "Five is greater than two!\n"
     ]
    }
   ],
   "source": [
    "if 5 > 2: print(\"Five is greater than two!\")               #shorthand property -to write code in one line"
   ]
  },
  {
   "cell_type": "code",
   "execution_count": 3,
   "metadata": {},
   "outputs": [
    {
     "name": "stdout",
     "output_type": "stream",
     "text": [
      "Yes\n"
     ]
    }
   ],
   "source": [
    " print(\"Yes\") if 5 > 2 else print(\"No\")           #conditional exp in one line by shorthand property"
   ]
  },
  {
   "cell_type": "code",
   "execution_count": null,
   "metadata": {},
   "outputs": [],
   "source": []
  }
 ],
 "metadata": {
  "kernelspec": {
   "display_name": "Python 3",
   "language": "python",
   "name": "python3"
  },
  "language_info": {
   "codemirror_mode": {
    "name": "ipython",
    "version": 3
   },
   "file_extension": ".py",
   "mimetype": "text/x-python",
   "name": "python",
   "nbconvert_exporter": "python",
   "pygments_lexer": "ipython3",
   "version": "3.7.3"
  }
 },
 "nbformat": 4,
 "nbformat_minor": 2
}
