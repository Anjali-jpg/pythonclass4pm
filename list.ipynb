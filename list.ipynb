{
 "cells": [
  {
   "cell_type": "code",
   "execution_count": null,
   "metadata": {},
   "outputs": [],
   "source": [
    "#list\n",
    "- list is mutable\n",
    "-list is ordered\n",
    "-list is indexed\n",
    "-list has duplicate members"
   ]
  },
  {
   "cell_type": "code",
   "execution_count": 3,
   "metadata": {},
   "outputs": [
    {
     "name": "stdout",
     "output_type": "stream",
     "text": [
      "<class 'list'>\n"
     ]
    }
   ],
   "source": [
    "a=[]\n",
    "b=list()\n",
    "print(type(b))"
   ]
  },
  {
   "cell_type": "code",
   "execution_count": 4,
   "metadata": {},
   "outputs": [
    {
     "name": "stdout",
     "output_type": "stream",
     "text": [
      "[1, 2, 3, 4, 5, 6] ['apple', 'ball', 'cat', 'dog']\n"
     ]
    }
   ],
   "source": [
    "a=[1,2,3,4,5,6]\n",
    "b=[\"apple\",\"ball\",\"cat\",\"dog\"]\n",
    "print(a,b)"
   ]
  },
  {
   "cell_type": "code",
   "execution_count": 7,
   "metadata": {},
   "outputs": [
    {
     "name": "stdout",
     "output_type": "stream",
     "text": [
      "[1, 2, 3, 3, 4, 5, 6]\n",
      "['apple', 'ball', 'cat']\n",
      "['+', '-', '*']\n"
     ]
    }
   ],
   "source": [
    "a=[1,2,3,3,4,5,6]\n",
    "b=[\"apple\",\"ball\",\"cat\"]\n",
    "c=[\"+\",\"-\",\"*\"]\n",
    "\n",
    "print(a)\n",
    "print(b)\n",
    "print(c)\n"
   ]
  },
  {
   "cell_type": "code",
   "execution_count": 10,
   "metadata": {},
   "outputs": [
    {
     "name": "stdout",
     "output_type": "stream",
     "text": [
      "ball\n",
      "3\n"
     ]
    }
   ],
   "source": [
    "a=[\"apple\",\"ball\",\"cat\"]\n",
    "print(a[1])\n",
    "print(len(a))"
   ]
  },
  {
   "cell_type": "code",
   "execution_count": 16,
   "metadata": {},
   "outputs": [
    {
     "name": "stdout",
     "output_type": "stream",
     "text": [
      "apple\n"
     ]
    }
   ],
   "source": [
    "a=[\"apple\",\"ball\",\"cat\",\"dog\",\"egg\"]\n",
    "print(a[0])"
   ]
  },
  {
   "cell_type": "code",
   "execution_count": 17,
   "metadata": {},
   "outputs": [
    {
     "name": "stdout",
     "output_type": "stream",
     "text": [
      "['apple', 'ball', 'cat']\n"
     ]
    }
   ],
   "source": [
    "a=[\"apple\",\"ball\",\"cat\",\"dog\",\"egg\"]\n",
    "print(a[0:3])"
   ]
  },
  {
   "cell_type": "code",
   "execution_count": 18,
   "metadata": {},
   "outputs": [
    {
     "name": "stdout",
     "output_type": "stream",
     "text": [
      "['apple', 'cat']\n"
     ]
    }
   ],
   "source": [
    "a=[\"apple\",\"ball\",\"cat\",\"dog\",\"egg\"]\n",
    "print(a[0:3:2])"
   ]
  },
  {
   "cell_type": "code",
   "execution_count": 19,
   "metadata": {},
   "outputs": [
    {
     "name": "stdout",
     "output_type": "stream",
     "text": [
      "['apple', 'cat', 'egg']\n"
     ]
    }
   ],
   "source": [
    "a=[\"apple\",\"ball\",\"cat\",\"dog\",\"egg\"]\n",
    "print(a[0::2])"
   ]
  },
  {
   "cell_type": "code",
   "execution_count": 20,
   "metadata": {},
   "outputs": [
    {
     "name": "stdout",
     "output_type": "stream",
     "text": [
      "[3, 5]\n"
     ]
    }
   ],
   "source": [
    "a=[1,2,3,4,5,6,7,8,9,0]\n",
    "print(a[2:6:2])"
   ]
  },
  {
   "cell_type": "code",
   "execution_count": 21,
   "metadata": {},
   "outputs": [
    {
     "name": "stdout",
     "output_type": "stream",
     "text": [
      "['apple', 'ball', 'cat', 'dog', 'egg', 'fish']\n"
     ]
    }
   ],
   "source": [
    "a=[\"apple\",\"ball\",\"cat\",\"dog\",\"egg\"]\n",
    "b=[\"fish\"]\n",
    "c=a+b\n",
    "print(c)"
   ]
  },
  {
   "cell_type": "code",
   "execution_count": 23,
   "metadata": {},
   "outputs": [
    {
     "name": "stdout",
     "output_type": "stream",
     "text": [
      "['fish', 'apple', 'ball', 'cat', 'dog', 'egg']\n"
     ]
    }
   ],
   "source": [
    "a=[\"apple\",\"ball\",\"cat\",\"dog\",\"egg\"]\n",
    "b=[\"fish\"]\n",
    "c=b+a\n",
    "print(c)"
   ]
  },
  {
   "cell_type": "code",
   "execution_count": 24,
   "metadata": {},
   "outputs": [
    {
     "name": "stdout",
     "output_type": "stream",
     "text": [
      "[1, 2, 2, 3, 4, 5, 6, 6, 2]\n"
     ]
    }
   ],
   "source": [
    "a=[1,2,2,3,4,5,6,6,2]\n",
    "print(a)"
   ]
  },
  {
   "cell_type": "code",
   "execution_count": 25,
   "metadata": {},
   "outputs": [
    {
     "name": "stdout",
     "output_type": "stream",
     "text": [
      "3\n"
     ]
    }
   ],
   "source": [
    "a=[1,2,2,3,4,5,6,6,2]\n",
    "print(a.count(2))"
   ]
  },
  {
   "cell_type": "code",
   "execution_count": 26,
   "metadata": {},
   "outputs": [
    {
     "name": "stdout",
     "output_type": "stream",
     "text": [
      "['fish', 'ball', 'cat', 'dog', 'egg']\n"
     ]
    }
   ],
   "source": [
    "a=[\"apple\",\"ball\",\"cat\",\"dog\",\"egg\"]\n",
    "a[0]=\"fish\"\n",
    "print(a)"
   ]
  },
  {
   "cell_type": "code",
   "execution_count": 27,
   "metadata": {},
   "outputs": [
    {
     "name": "stdout",
     "output_type": "stream",
     "text": [
      "enter n=2\n",
      "enter x=ram\n",
      "enter x=sita\n",
      "['ram', 'sita']\n"
     ]
    }
   ],
   "source": [
    "l=[]\n",
    "n=int(input(\"enter n=\"))\n",
    "for i in range(n):\n",
    "    x=input(\"enter x=\")\n",
    "    l=l+[x]\n",
    "print(l)"
   ]
  },
  {
   "cell_type": "code",
   "execution_count": 28,
   "metadata": {},
   "outputs": [
    {
     "name": "stdout",
     "output_type": "stream",
     "text": [
      "enter n=2\n",
      "enter x=22\n",
      "enter x=33\n",
      "[22, 33]\n"
     ]
    }
   ],
   "source": [
    "l=[]\n",
    "n=int(input(\"enter n=\"))\n",
    "for i in range(n):\n",
    "    x=int(input(\"enter x=\"))\n",
    "    l=l+[x]\n",
    "print(l)"
   ]
  },
  {
   "cell_type": "code",
   "execution_count": 30,
   "metadata": {},
   "outputs": [
    {
     "name": "stdout",
     "output_type": "stream",
     "text": [
      "enter n=5\n",
      "enter x=2\n",
      "enter x=3\n",
      "enter x=4\n",
      "enter x=5\n",
      "enter x=6\n",
      "[2, 3, 4, 5, 6]\n",
      "the sum = 20\n",
      "the list is = [2, 3, 4, 5, 6]\n",
      "the max number is = 6\n",
      "the min number is = 2\n"
     ]
    }
   ],
   "source": [
    "l=[]\n",
    "n=int(input(\"enter n=\"))\n",
    "for i in range(n):\n",
    "    x=int(input(\"enter x=\"))\n",
    "    l=l+[x]\n",
    "print(l)\n",
    "print(\"the sum =\",sum(l))\n",
    "print(\"the list is =\",list(l))\n",
    "print(\"the max number is =\",max(l))\n",
    "print(\"the min number is =\",min(l))\n",
    "\n"
   ]
  },
  {
   "cell_type": "code",
   "execution_count": 31,
   "metadata": {},
   "outputs": [
    {
     "name": "stdout",
     "output_type": "stream",
     "text": [
      "[2, 3, 4, 5, 6]\n"
     ]
    }
   ],
   "source": [
    "l.sort()                #sorting in ascending order\n",
    "print(l)"
   ]
  },
  {
   "cell_type": "code",
   "execution_count": 32,
   "metadata": {},
   "outputs": [
    {
     "name": "stdout",
     "output_type": "stream",
     "text": [
      "[6, 5, 4, 3, 2]\n"
     ]
    }
   ],
   "source": [
    "l.reverse()             #sorting in descending order\n",
    "print(l)"
   ]
  },
  {
   "cell_type": "code",
   "execution_count": 34,
   "metadata": {},
   "outputs": [
    {
     "name": "stdout",
     "output_type": "stream",
     "text": [
      "['Ball', 'apple', 'cat', 'fish']\n"
     ]
    }
   ],
   "source": [
    "a=[\"apple\", \"Ball\", \"cat\",\"fish\"]\n",
    "a.sort()\n",
    "print(a)"
   ]
  },
  {
   "cell_type": "code",
   "execution_count": 2,
   "metadata": {},
   "outputs": [
    {
     "name": "stdout",
     "output_type": "stream",
     "text": [
      "apple\n",
      "Ball\n",
      "cat\n",
      "fish\n"
     ]
    }
   ],
   "source": [
    "a=[\"apple\", \"Ball\", \"cat\",\"fish\"]\n",
    "for i in a:\n",
    "    print(i)\n"
   ]
  },
  {
   "cell_type": "code",
   "execution_count": 4,
   "metadata": {},
   "outputs": [
    {
     "name": "stdout",
     "output_type": "stream",
     "text": [
      "apple\n",
      "Ball\n",
      "cat\n",
      "fish\n"
     ]
    }
   ],
   "source": [
    "a=[\"apple\", \"Ball\", \"cat\",\"fish\"]\n",
    "l=len(a)\n",
    "for i in range(l):\n",
    "    print(a[i])"
   ]
  },
  {
   "cell_type": "code",
   "execution_count": 1,
   "metadata": {},
   "outputs": [
    {
     "name": "stdout",
     "output_type": "stream",
     "text": [
      "0\n",
      "1\n",
      "2\n",
      "3\n"
     ]
    }
   ],
   "source": [
    "a=[\"apple\", \"Ball\", \"cat\",\"fish\"]\n",
    "l=len(a)\n",
    "for i in range(l):\n",
    "    print(i)"
   ]
  },
  {
   "cell_type": "code",
   "execution_count": 5,
   "metadata": {},
   "outputs": [
    {
     "name": "stdout",
     "output_type": "stream",
     "text": [
      "yes\n"
     ]
    }
   ],
   "source": [
    "a=[\"apple\", \"Ball\", \"cat\",\"fish\",\"apple\"]\n",
    "if \"apple\" in a:\n",
    "    print(\"yes\")\n",
    "else:\n",
    "    print(\"no\")"
   ]
  },
  {
   "cell_type": "code",
   "execution_count": 6,
   "metadata": {},
   "outputs": [
    {
     "name": "stdout",
     "output_type": "stream",
     "text": [
      "yes\n",
      "2\n"
     ]
    }
   ],
   "source": [
    "a=[\"apple\", \"Ball\", \"cat\",\"fish\",\"apple\"]\n",
    "if \"apple\" in a:\n",
    "    print(\"yes\")\n",
    "    print(a.count(\"apple\"))\n",
    "else:\n",
    "    print(\"no\")"
   ]
  },
  {
   "cell_type": "code",
   "execution_count": 7,
   "metadata": {},
   "outputs": [
    {
     "name": "stdout",
     "output_type": "stream",
     "text": [
      "enter n=3\n",
      "enter x=ram\n",
      "enter y=sita\n",
      "enter z=radha\n",
      "enter x=hari\n",
      "enter y=arjun\n",
      "enter z=abir\n",
      "enter x=ktm\n",
      "enter y=brgnj\n",
      "enter z=nepal\n",
      "[' ram sita radha', ' hari arjun abir', ' ktm brgnj nepal']\n"
     ]
    }
   ],
   "source": [
    "l=[]\n",
    "s=str()\n",
    "n=int(input(\"enter n=\"))\n",
    "for i in range(n):\n",
    "    x=input(\"enter x=\")\n",
    "    y=input(\"enter y=\")\n",
    "    z=input(\"enter z=\")\n",
    "    l=l+[f\" {x} {y} {z}\"]\n",
    "print(l)"
   ]
  },
  {
   "cell_type": "code",
   "execution_count": 11,
   "metadata": {},
   "outputs": [
    {
     "name": "stdout",
     "output_type": "stream",
     "text": [
      "enter name=hari\n",
      " ram sita radha\n",
      " hari arjun abir\n",
      " ktm brgnj nepal\n"
     ]
    }
   ],
   "source": [
    "name=input(\"enter name=\")\n",
    "a=[' ram sita radha', ' hari arjun abir', ' ktm brgnj nepal']\n",
    "for i in a:\n",
    "    print(i)"
   ]
  },
  {
   "cell_type": "code",
   "execution_count": 14,
   "metadata": {},
   "outputs": [
    {
     "name": "stdout",
     "output_type": "stream",
     "text": [
      "enter name=brgnj\n",
      " ktm brgnj nepal\n"
     ]
    }
   ],
   "source": [
    "name=input(\"enter name=\")                                                  #search details by name\n",
    "a=[' ram sita radha', ' hari arjun abir', ' ktm brgnj nepal']\n",
    "for i in a:\n",
    "    if name in i:\n",
    "        print(i)"
   ]
  },
  {
   "cell_type": "code",
   "execution_count": 2,
   "metadata": {},
   "outputs": [
    {
     "name": "stdout",
     "output_type": "stream",
     "text": [
      "enter name=arjun\n",
      " hari arjun abir\n"
     ]
    }
   ],
   "source": [
    "name=input(\"enter name=\")\n",
    "a=[' ram sita radha', ' hari arjun abir', ' ktm brgnj nepal']\n",
    "for i in a:\n",
    "    if name in i:\n",
    "        print(i)"
   ]
  },
  {
   "cell_type": "code",
   "execution_count": null,
   "metadata": {},
   "outputs": [],
   "source": [
    "#append() insert() extend()\n"
   ]
  },
  {
   "cell_type": "code",
   "execution_count": 16,
   "metadata": {},
   "outputs": [
    {
     "name": "stdout",
     "output_type": "stream",
     "text": [
      "['apple']\n"
     ]
    }
   ],
   "source": [
    "a=[]\n",
    "a.append(\"apple\")\n",
    "print(a)"
   ]
  },
  {
   "cell_type": "code",
   "execution_count": 18,
   "metadata": {},
   "outputs": [
    {
     "name": "stdout",
     "output_type": "stream",
     "text": [
      "['apple', 'apple']\n"
     ]
    }
   ],
   "source": [
    "a=[]\n",
    "a.append(\"apple\")\n",
    "a.append(\"apple\")\n",
    "print(a)"
   ]
  },
  {
   "cell_type": "code",
   "execution_count": 19,
   "metadata": {},
   "outputs": [
    {
     "name": "stdout",
     "output_type": "stream",
     "text": [
      "['apple', 'apple', 'fish']\n"
     ]
    }
   ],
   "source": [
    "a=[]\n",
    "a.append(\"apple\")\n",
    "a.append(\"apple\")\n",
    "b=\"fish\"\n",
    "a.append(b)\n",
    "print(a)"
   ]
  },
  {
   "cell_type": "code",
   "execution_count": 22,
   "metadata": {},
   "outputs": [
    {
     "name": "stdout",
     "output_type": "stream",
     "text": [
      "enter n=3\n",
      "enter x=ram\n",
      "enter x=sita\n",
      "enter x=hari\n",
      "['ram', 'sita', 'hari']\n"
     ]
    }
   ],
   "source": [
    "l=[]                                              #append() takes one argument at a time\n",
    "n=int(input(\"enter n=\"))\n",
    "for i in range(n):\n",
    "    x=input(\"enter x=\")\n",
    "    l.append(x)\n",
    "print(l)"
   ]
  },
  {
   "cell_type": "code",
   "execution_count": 23,
   "metadata": {},
   "outputs": [
    {
     "name": "stdout",
     "output_type": "stream",
     "text": [
      "['apple', 'Ball', 'dog', 'cat', 'fish', 'apple']\n"
     ]
    }
   ],
   "source": [
    "a=[\"apple\", \"Ball\", \"cat\",\"fish\",\"apple\"]\n",
    "a.insert(2,\"dog\")\n",
    "print(a)"
   ]
  },
  {
   "cell_type": "code",
   "execution_count": 24,
   "metadata": {},
   "outputs": [
    {
     "name": "stdout",
     "output_type": "stream",
     "text": [
      "enter n=3\n",
      "enter x=dog\n",
      "enter x=cat\n",
      "enter x=egg\n",
      "['dog', 'puppy', 'puppy', 'puppy', 'cat', 'egg']\n"
     ]
    }
   ],
   "source": [
    "l=[]                                            #insert() takes two argument at a time\n",
    "n=int(input(\"enter n=\"))\n",
    "for i in range(n):\n",
    "    x=input(\"enter x=\")\n",
    "    l.append(x)\n",
    "    l.insert(1,\"puppy\")\n",
    "print(l)"
   ]
  },
  {
   "cell_type": "code",
   "execution_count": 25,
   "metadata": {},
   "outputs": [
    {
     "name": "stdout",
     "output_type": "stream",
     "text": [
      "['apple', 'Ball', 'cat', 'fish', 'apple', 'puppy', 'lion']\n"
     ]
    }
   ],
   "source": [
    "a=[\"apple\", \"Ball\", \"cat\",\"fish\",\"apple\"]\n",
    "b=[\"puppy\", \"lion\"]\n",
    "a.extend(b)\n",
    "print(a)\n"
   ]
  },
  {
   "cell_type": "code",
   "execution_count": null,
   "metadata": {},
   "outputs": [],
   "source": []
  },
  {
   "cell_type": "code",
   "execution_count": null,
   "metadata": {},
   "outputs": [],
   "source": [
    "#index"
   ]
  },
  {
   "cell_type": "code",
   "execution_count": 29,
   "metadata": {},
   "outputs": [
    {
     "data": {
      "text/plain": [
       "2"
      ]
     },
     "execution_count": 29,
     "metadata": {},
     "output_type": "execute_result"
    }
   ],
   "source": [
    "a=[' ram sita radha', ' hari arjun abir', ' ktm brgnj nepal']\n",
    "a.index(\"cat\")"
   ]
  },
  {
   "cell_type": "code",
   "execution_count": 3,
   "metadata": {},
   "outputs": [
    {
     "data": {
      "text/plain": [
       "0"
      ]
     },
     "execution_count": 3,
     "metadata": {},
     "output_type": "execute_result"
    }
   ],
   "source": [
    "a=[\"apple\", \"Ball\", \"cat\",\"fish\",\"apple\"]\n",
    "a.index(\"apple\")"
   ]
  },
  {
   "cell_type": "code",
   "execution_count": 5,
   "metadata": {},
   "outputs": [
    {
     "name": "stdout",
     "output_type": "stream",
     "text": [
      "enter x=fish\n",
      "3\n"
     ]
    }
   ],
   "source": [
    "a=[\"apple\", \"Ball\", \"cat\",\"fish\",\"apple\" ,\"cat\"]\n",
    "l=len(a)\n",
    "x=input(\"enter x=\")\n",
    "for i in range(l):\n",
    "    if a[i]==x:\n",
    "        print(i)"
   ]
  },
  {
   "cell_type": "code",
   "execution_count": null,
   "metadata": {},
   "outputs": [],
   "source": [
    "#del() remove() pop()"
   ]
  },
  {
   "cell_type": "code",
   "execution_count": 10,
   "metadata": {},
   "outputs": [
    {
     "name": "stdout",
     "output_type": "stream",
     "text": [
      "['Ball', 'cat', 'fish', 'apple', 'cat']\n"
     ]
    }
   ],
   "source": [
    "a=[\"apple\", \"Ball\", \"cat\",\"fish\",\"apple\" ,\"cat\"]               #del() removes by index\n",
    "del a[0]\n",
    "print(a)"
   ]
  },
  {
   "cell_type": "code",
   "execution_count": 12,
   "metadata": {},
   "outputs": [
    {
     "name": "stdout",
     "output_type": "stream",
     "text": [
      "['fish', 'apple', 'cat']\n"
     ]
    }
   ],
   "source": [
    "a=[\"apple\", \"Ball\", \"cat\",\"fish\",\"apple\" ,\"cat\"]\n",
    "del a[0:3]\n",
    "print(a)"
   ]
  },
  {
   "cell_type": "code",
   "execution_count": 13,
   "metadata": {},
   "outputs": [
    {
     "name": "stdout",
     "output_type": "stream",
     "text": [
      "['apple', 'Ball', 'fish', 'apple', 'cat']\n"
     ]
    }
   ],
   "source": [
    "a=[\"apple\", \"Ball\", \"cat\",\"fish\",\"apple\" ,\"cat\"]\n",
    "a.remove(\"cat\")\n",
    "print(a)"
   ]
  },
  {
   "cell_type": "code",
   "execution_count": 15,
   "metadata": {},
   "outputs": [
    {
     "name": "stdout",
     "output_type": "stream",
     "text": [
      "enter x=cat\n",
      "cat\n",
      "['apple', 'Ball', 'fish', 'apple']\n"
     ]
    }
   ],
   "source": [
    "a=[\"apple\", \"Ball\", \"cat\",\"fish\",\"apple\" ,\"cat\"]\n",
    "x=input(\"enter x=\")\n",
    "for i in a:\n",
    "    if i==x:\n",
    "        a.remove(x)\n",
    "print(x)\n",
    "print(a)"
   ]
  },
  {
   "cell_type": "code",
   "execution_count": 18,
   "metadata": {},
   "outputs": [
    {
     "name": "stdout",
     "output_type": "stream",
     "text": [
      "enter x=Ball\n",
      "Ball\n",
      "['apple', 'cat', 'fish', 'apple', 'cat']\n"
     ]
    }
   ],
   "source": [
    "a=[\"apple\", \"Ball\", \"cat\",\"fish\",\"apple\" ,\"cat\"]             #remove() takes argument\n",
    "x=input(\"enter x=\")\n",
    "for i in a:\n",
    "    if i==x:\n",
    "        a.remove(x)\n",
    "print(x)\n",
    "print(a)"
   ]
  },
  {
   "cell_type": "code",
   "execution_count": 19,
   "metadata": {},
   "outputs": [
    {
     "name": "stdout",
     "output_type": "stream",
     "text": [
      "['apple', 'Ball', 'fish', 'apple', 'cat']\n"
     ]
    }
   ],
   "source": [
    "a=[\"apple\", \"Ball\", \"cat\",\"fish\",\"apple\" ,\"cat\"] \n",
    "a.pop(2)\n",
    "print(a)"
   ]
  },
  {
   "cell_type": "code",
   "execution_count": 20,
   "metadata": {},
   "outputs": [
    {
     "name": "stdout",
     "output_type": "stream",
     "text": [
      "['apple', 'Ball', 'cat', 'apple', 'cat']\n",
      "fish\n"
     ]
    }
   ],
   "source": [
    "a=[\"apple\", \"Ball\", \"cat\",\"fish\",\"apple\" ,\"cat\"] \n",
    "b=a.pop(3)\n",
    "print(a)\n",
    "print(b)"
   ]
  },
  {
   "cell_type": "code",
   "execution_count": 21,
   "metadata": {},
   "outputs": [
    {
     "name": "stdout",
     "output_type": "stream",
     "text": [
      "enter x=cat\n"
     ]
    },
    {
     "ename": "TypeError",
     "evalue": "'str' object cannot be interpreted as an integer",
     "output_type": "error",
     "traceback": [
      "\u001b[1;31m---------------------------------------------------------------------------\u001b[0m",
      "\u001b[1;31mTypeError\u001b[0m                                 Traceback (most recent call last)",
      "\u001b[1;32m<ipython-input-21-e4aa4f3aa75b>\u001b[0m in \u001b[0;36m<module>\u001b[1;34m\u001b[0m\n\u001b[0;32m      3\u001b[0m \u001b[1;32mfor\u001b[0m \u001b[0mi\u001b[0m \u001b[1;32min\u001b[0m \u001b[0ma\u001b[0m\u001b[1;33m:\u001b[0m\u001b[1;33m\u001b[0m\u001b[1;33m\u001b[0m\u001b[0m\n\u001b[0;32m      4\u001b[0m     \u001b[1;32mif\u001b[0m \u001b[0mi\u001b[0m\u001b[1;33m==\u001b[0m\u001b[0mx\u001b[0m\u001b[1;33m:\u001b[0m\u001b[1;33m\u001b[0m\u001b[1;33m\u001b[0m\u001b[0m\n\u001b[1;32m----> 5\u001b[1;33m         \u001b[0ma\u001b[0m\u001b[1;33m.\u001b[0m\u001b[0mpop\u001b[0m\u001b[1;33m(\u001b[0m\u001b[0mx\u001b[0m\u001b[1;33m)\u001b[0m\u001b[1;33m\u001b[0m\u001b[1;33m\u001b[0m\u001b[0m\n\u001b[0m\u001b[0;32m      6\u001b[0m \u001b[0mprint\u001b[0m\u001b[1;33m(\u001b[0m\u001b[0mx\u001b[0m\u001b[1;33m)\u001b[0m\u001b[1;33m\u001b[0m\u001b[1;33m\u001b[0m\u001b[0m\n\u001b[0;32m      7\u001b[0m \u001b[0mprint\u001b[0m\u001b[1;33m(\u001b[0m\u001b[0ma\u001b[0m\u001b[1;33m)\u001b[0m\u001b[1;33m\u001b[0m\u001b[1;33m\u001b[0m\u001b[0m\n",
      "\u001b[1;31mTypeError\u001b[0m: 'str' object cannot be interpreted as an integer"
     ]
    }
   ],
   "source": [
    "a=[\"apple\", \"Ball\", \"cat\",\"fish\",\"apple\" ,\"cat\"]             #pop() can only delete when its args is int\n",
    "x=input(\"enter x=\")\n",
    "for i in a:\n",
    "    if i==x:\n",
    "        a.pop(x)\n",
    "print(x)\n",
    "print(a)"
   ]
  },
  {
   "cell_type": "code",
   "execution_count": null,
   "metadata": {},
   "outputs": [],
   "source": [
    "#clear()"
   ]
  },
  {
   "cell_type": "code",
   "execution_count": 22,
   "metadata": {},
   "outputs": [
    {
     "name": "stdout",
     "output_type": "stream",
     "text": [
      "[]\n"
     ]
    }
   ],
   "source": [
    "a=[\"apple\", \"Ball\", \"cat\",\"fish\",\"apple\" ,\"cat\"] \n",
    "a.clear()\n",
    "print(a)"
   ]
  },
  {
   "cell_type": "code",
   "execution_count": null,
   "metadata": {},
   "outputs": [],
   "source": [
    "#list inside list"
   ]
  },
  {
   "cell_type": "code",
   "execution_count": 1,
   "metadata": {},
   "outputs": [
    {
     "name": "stdout",
     "output_type": "stream",
     "text": [
      "[[]]\n"
     ]
    }
   ],
   "source": [
    "\n",
    "a=[[]]\n",
    "print(a)"
   ]
  },
  {
   "cell_type": "code",
   "execution_count": 2,
   "metadata": {},
   "outputs": [
    {
     "name": "stdout",
     "output_type": "stream",
     "text": [
      "<class 'list'>\n"
     ]
    }
   ],
   "source": [
    "print(type(a))"
   ]
  },
  {
   "cell_type": "code",
   "execution_count": 3,
   "metadata": {},
   "outputs": [
    {
     "name": "stdout",
     "output_type": "stream",
     "text": [
      "[[], 'apple']\n"
     ]
    }
   ],
   "source": [
    "a=[[]]\n",
    "a.append(\"apple\")\n",
    "print(a)"
   ]
  },
  {
   "cell_type": "code",
   "execution_count": 4,
   "metadata": {},
   "outputs": [
    {
     "name": "stdout",
     "output_type": "stream",
     "text": [
      "[['apple'], ['ball'], ['cat']]\n"
     ]
    }
   ],
   "source": [
    "a=[[\"apple\"],[\"ball\"],[\"cat\"]]\n",
    "print(a)"
   ]
  },
  {
   "cell_type": "code",
   "execution_count": 6,
   "metadata": {},
   "outputs": [
    {
     "name": "stdout",
     "output_type": "stream",
     "text": [
      "[['apple'], ['ball'], ['cat']]\n",
      "<class 'list'>\n",
      "3\n"
     ]
    }
   ],
   "source": [
    "a=[[\"apple\"],[\"ball\"],[\"cat\"]]\n",
    "print(a)\n",
    "print(type(a))\n",
    "print(len(a))"
   ]
  },
  {
   "cell_type": "code",
   "execution_count": 7,
   "metadata": {},
   "outputs": [
    {
     "name": "stdout",
     "output_type": "stream",
     "text": [
      "[['apple', 'dog'], ['ball'], ['cat']]\n"
     ]
    }
   ],
   "source": [
    "a=[[\"apple\"],[\"ball\"],[\"cat\"]]\n",
    "a[0].append(\"dog\")\n",
    "print(a)"
   ]
  },
  {
   "cell_type": "code",
   "execution_count": 9,
   "metadata": {},
   "outputs": [
    {
     "name": "stdout",
     "output_type": "stream",
     "text": [
      "[['apple', 'dog'], ['ball', 'bike'], ['cat', 'tiger']]\n"
     ]
    }
   ],
   "source": [
    "a=[[\"apple\"],[\"ball\"],[\"cat\"]]\n",
    "a[1].append(\"bike\")\n",
    "a[2].append(\"tiger\")\n",
    "a[0].append(\"dog\")\n",
    "print(a)"
   ]
  },
  {
   "cell_type": "code",
   "execution_count": 12,
   "metadata": {},
   "outputs": [
    {
     "name": "stdout",
     "output_type": "stream",
     "text": [
      "[['apple', 'dog'], ['ball', 'bike'], ['cat', 'tiger']]\n"
     ]
    }
   ],
   "source": [
    "a=[['apple', 'dog'], ['ball', 'bike'], ['cat', 'tiger']]\n",
    "print(a)"
   ]
  },
  {
   "cell_type": "code",
   "execution_count": 13,
   "metadata": {},
   "outputs": [
    {
     "name": "stdout",
     "output_type": "stream",
     "text": [
      "[['apple', 'dog']]\n"
     ]
    }
   ],
   "source": [
    "a=[['apple', 'dog'], ['ball', 'bike'], ['cat', 'tiger']]\n",
    "print(a[0:1])"
   ]
  },
  {
   "cell_type": "code",
   "execution_count": 14,
   "metadata": {},
   "outputs": [
    {
     "name": "stdout",
     "output_type": "stream",
     "text": [
      "[]\n"
     ]
    }
   ],
   "source": [
    "a=[['apple', 'dog'], ['ball', 'bike'], ['cat', 'tiger']]\n",
    "print(a[1:1])"
   ]
  },
  {
   "cell_type": "code",
   "execution_count": 8,
   "metadata": {},
   "outputs": [
    {
     "name": "stdout",
     "output_type": "stream",
     "text": [
      "[]\n"
     ]
    }
   ],
   "source": [
    "a=[['apple', 'dog'], ['ball', 'bike'], ['cat', 'tiger']]\n",
    "print(a[2:1])\n",
    "      \n",
    "      \n",
    "      \n",
    "             \n",
    "      "
   ]
  },
  {
   "cell_type": "code",
   "execution_count": 1,
   "metadata": {},
   "outputs": [
    {
     "name": "stdout",
     "output_type": "stream",
     "text": [
      "[[1, 2, 3], [3, 4, 5], [6, 7, 8]]\n"
     ]
    }
   ],
   "source": [
    "a=[[1,2,3],\n",
    "  [3,4,5],\n",
    "  [6,7,8]]\n",
    "print(a)"
   ]
  },
  {
   "cell_type": "code",
   "execution_count": 2,
   "metadata": {},
   "outputs": [
    {
     "name": "stdout",
     "output_type": "stream",
     "text": [
      "enter n=3\n",
      "enter x=ram\n",
      "enter x=sita\n",
      "enter x=hari\n",
      "['ram', 'sita', 'hari']\n"
     ]
    }
   ],
   "source": [
    "l=[]\n",
    "n=int(input(\"enter n=\"))\n",
    "for i in range(n):\n",
    "    x=input(\"enter x=\")\n",
    "    l=l+[x]\n",
    "print(l)"
   ]
  },
  {
   "cell_type": "code",
   "execution_count": 4,
   "metadata": {},
   "outputs": [
    {
     "name": "stdout",
     "output_type": "stream",
     "text": [
      "enter n=3\n",
      "enter x=ram\n",
      "enter x=sita\n",
      "enter x=aham\n",
      "['ram', 'sita', 'aham']\n"
     ]
    }
   ],
   "source": [
    "l=[]\n",
    "n=int(input(\"enter n=\"))\n",
    "for i in range(n):\n",
    "    x=input(\"enter x=\")\n",
    "    l.append(x)\n",
    "print(l)"
   ]
  },
  {
   "cell_type": "code",
   "execution_count": 5,
   "metadata": {},
   "outputs": [
    {
     "name": "stdout",
     "output_type": "stream",
     "text": [
      "enter n=3\n",
      "enter name=ram\n",
      "enter age=sita\n",
      "enter add=hari\n",
      "enter name=dev\n",
      "enter age=abir\n",
      "enter add=mishti\n",
      "enter name=kuhu\n",
      "enter age=arjun\n",
      "enter add=kunal\n",
      "[['ram', 'sita', 'hari'], ['dev', 'abir', 'mishti'], ['kuhu', 'arjun', 'kunal']]\n"
     ]
    }
   ],
   "source": [
    "l=[]\n",
    "s=str()\n",
    "n=int(input(\"enter n=\"))\n",
    "for i in range(n):\n",
    "    name=input(\"enter name=\")\n",
    "    age=input(\"enter age=\")\n",
    "    add=input(\"enter add=\")\n",
    "    x=[name,age,add]\n",
    "    l=l+[x]\n",
    "print(l)"
   ]
  },
  {
   "cell_type": "code",
   "execution_count": 6,
   "metadata": {},
   "outputs": [
    {
     "name": "stdout",
     "output_type": "stream",
     "text": [
      "enter n=2\n",
      "enter name=ram\n",
      "enter age=hari\n",
      "enter add=sita\n",
      "enter name=dev\n",
      "enter age=abir\n",
      "enter add=arjun\n",
      "[['ram', 'hari', 'sita'], ['dev', 'abir', 'arjun']]\n"
     ]
    }
   ],
   "source": [
    "l=[]\n",
    "s=str()\n",
    "n=int(input(\"enter n=\"))\n",
    "for i in range(n):\n",
    "    name=input(\"enter name=\")\n",
    "    age=input(\"enter age=\")\n",
    "    add=input(\"enter add=\")\n",
    "    x=[name,age,add]\n",
    "    l.append(x)\n",
    "print(l)"
   ]
  },
  {
   "cell_type": "code",
   "execution_count": 7,
   "metadata": {},
   "outputs": [
    {
     "name": "stdout",
     "output_type": "stream",
     "text": [
      "enter n=sita\n",
      "['ram', 'hari', 'sita']\n"
     ]
    }
   ],
   "source": [
    "n=input(\"enter n=\")\n",
    "a=[['ram', 'hari', 'sita'], ['dev', 'abir', 'arjun']]\n",
    "for i in a:\n",
    "    if n in i:\n",
    "        print(i)\n",
    "    "
   ]
  },
  {
   "cell_type": "code",
   "execution_count": 2,
   "metadata": {},
   "outputs": [
    {
     "name": "stdout",
     "output_type": "stream",
     "text": [
      "Enter name = Ram\n",
      "0 ['Ram', '43', 'Kathmandu']\n"
     ]
    }
   ],
   "source": [
    "l = [['Ram', '43', 'Kathmandu'], ['Shyam', '64', 'Bara']]\n",
    "n = len(l)\n",
    "name = input(\"Enter name = \")\n",
    "for i in range(n):\n",
    "      if l[i][0] == name:\n",
    "                print(i,l[i])\n",
    "   "
   ]
  },
  {
   "cell_type": "code",
   "execution_count": 1,
   "metadata": {},
   "outputs": [
    {
     "name": "stdout",
     "output_type": "stream",
     "text": [
      "['kiwi', 'banana', 'cherry']\n"
     ]
    }
   ],
   "source": [
    "fruits = [\"apple\", \"banana\", \"cherry\"]\n",
    "fruits[0] = \"kiwi\"\n",
    "print(fruits)"
   ]
  },
  {
   "cell_type": "code",
   "execution_count": 2,
   "metadata": {},
   "outputs": [
    {
     "name": "stdout",
     "output_type": "stream",
     "text": [
      "['apple', 'lemon', 'banana', 'cherry']\n"
     ]
    }
   ],
   "source": [
    "fruits = [\"apple\", \"banana\", \"cherry\"]            #insert\n",
    "fruits.insert(1,\"lemon\")\n",
    "print(fruits)"
   ]
  },
  {
   "cell_type": "code",
   "execution_count": null,
   "metadata": {},
   "outputs": [],
   "source": []
  }
 ],
 "metadata": {
  "kernelspec": {
   "display_name": "Python 3",
   "language": "python",
   "name": "python3"
  },
  "language_info": {
   "codemirror_mode": {
    "name": "ipython",
    "version": 3
   },
   "file_extension": ".py",
   "mimetype": "text/x-python",
   "name": "python",
   "nbconvert_exporter": "python",
   "pygments_lexer": "ipython3",
   "version": "3.7.3"
  }
 },
 "nbformat": 4,
 "nbformat_minor": 2
}
