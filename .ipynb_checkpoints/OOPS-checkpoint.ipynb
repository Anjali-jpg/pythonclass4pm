{
 "cells": [
  {
   "cell_type": "code",
   "execution_count": null,
   "metadata": {},
   "outputs": [],
   "source": [
    "#OOPS concept - object oriented programming system\n",
    "#python is object oriented programming language. Everything in python is object, with its properties and methods\n",
    "\n",
    "- class = class is object constructor, blueprint for creating objects\n",
    "\n",
    "- methods = functions defined inside body of class, that defines behaviour of an object.\n",
    "\n",
    "- objects = everything around us is object along with its properties.It is instantiation of class."
   ]
  },
  {
   "cell_type": "code",
   "execution_count": null,
   "metadata": {},
   "outputs": [],
   "source": [
    "#Pillars of OOps:\n",
    "- Inheritance = Inheritance, also called generalization, allows us to capture a hierarchal relationship between classes and objects.\n",
    "\n",
    "- Encapsulation = This property hides unnecessary details and makes it easier to manage the program structure, Hidws private details of class from other objects.\n",
    "\n",
    "\n",
    "- Polymorphism = Poly-morphism means many forms. That is, a thing or action is present in different forms or ways\n",
    "\n",
    "\n",
    "- Abstraction = This property allows us to hide the details and expose only the essential features of a concept or object.\n"
   ]
  },
  {
   "cell_type": "code",
   "execution_count": null,
   "metadata": {},
   "outputs": [],
   "source": [
    "<class>:\n",
    "    <methods>\n",
    "<object>\n"
   ]
  },
  {
   "cell_type": "code",
   "execution_count": null,
   "metadata": {},
   "outputs": [],
   "source": [
    "#creating class"
   ]
  },
  {
   "cell_type": "code",
   "execution_count": 3,
   "metadata": {},
   "outputs": [
    {
     "name": "stdout",
     "output_type": "stream",
     "text": [
      "10\n"
     ]
    }
   ],
   "source": [
    "class Myclass:\n",
    "    x=10\n",
    "    \n",
    "a = Myclass()\n",
    "\n",
    "print(a.x)\n"
   ]
  },
  {
   "cell_type": "code",
   "execution_count": 5,
   "metadata": {},
   "outputs": [
    {
     "name": "stdout",
     "output_type": "stream",
     "text": [
      "enter name =ram\n",
      "ram\n"
     ]
    }
   ],
   "source": [
    "class Students:\n",
    "    name = input(\"enter name =\")\n",
    "    \n",
    "s1 = Students()\n",
    "print(s1.name)"
   ]
  },
  {
   "cell_type": "code",
   "execution_count": 7,
   "metadata": {},
   "outputs": [
    {
     "name": "stdout",
     "output_type": "stream",
     "text": [
      "enter name =ram\n",
      "enter age =22\n",
      "enter add=ktm\n",
      "ram\n",
      "22\n",
      "ktm\n"
     ]
    }
   ],
   "source": [
    "class Details:                              #class\n",
    "    \n",
    "    name = input(\"enter name =\")            #methods\n",
    "    age = int(input(\"enter age =\"))\n",
    "    add = input(\"enter add=\")\n",
    "    \n",
    "d = Details()                             #objects\n",
    "\n",
    "print(d.name)\n",
    "print(d.age)                         \n",
    "print(d.add)"
   ]
  },
  {
   "cell_type": "code",
   "execution_count": 5,
   "metadata": {},
   "outputs": [
    {
     "name": "stdout",
     "output_type": "stream",
     "text": [
      "this is person\n",
      "<__main__.Person object at 0x000002C00C290EF0>\n"
     ]
    }
   ],
   "source": [
    "class Person:                            #self = it is refernce to current instances of class,used to access variable that belongs to class\n",
    "    def student(self):\n",
    "        print(\"this is person\")\n",
    "        print(self)\n",
    "    \n",
    "    \n",
    "s = Person()\n",
    "s.student()\n",
    "\n"
   ]
  },
  {
   "cell_type": "code",
   "execution_count": 7,
   "metadata": {},
   "outputs": [
    {
     "name": "stdout",
     "output_type": "stream",
     "text": [
      "this is person\n"
     ]
    }
   ],
   "source": [
    "class Person:\n",
    "    @staticmethod\n",
    "    def student():\n",
    "        print(\"this is person\")\n",
    "       \n",
    "    \n",
    "    \n",
    "s = Person()\n",
    "s.student()"
   ]
  },
  {
   "cell_type": "code",
   "execution_count": 16,
   "metadata": {},
   "outputs": [
    {
     "name": "stdout",
     "output_type": "stream",
     "text": [
      "9\n",
      "this is method\n",
      "<__main__.Function object at 0x0000026443A12400>\n"
     ]
    }
   ],
   "source": [
    "class Function:\n",
    "    var = 9\n",
    "    def myfunc(self):\n",
    "        print(\"this is method\")\n",
    "        print(self)\n",
    "        \n",
    "obj = Function()\n",
    "print(obj.var)\n",
    "obj.myfunc()"
   ]
  },
  {
   "cell_type": "code",
   "execution_count": 10,
   "metadata": {},
   "outputs": [
    {
     "name": "stdout",
     "output_type": "stream",
     "text": [
      "enter l =3\n",
      "enter b =2\n",
      "6\n"
     ]
    }
   ],
   "source": [
    "class Area:\n",
    "    def area(self,x,y):\n",
    "        a = l*b\n",
    "        print(a)\n",
    "        \n",
    "l = int(input(\"enter l =\"))\n",
    "b = int(input(\"enter b =\"))\n",
    "\n",
    "obj = Area()\n",
    "obj.area(l,b)"
   ]
  },
  {
   "cell_type": "code",
   "execution_count": null,
   "metadata": {},
   "outputs": [],
   "source": [
    "# __init__() = All classes have a function called __init__(), which is always executed when the class is being initiated.\n"
   ]
  },
  {
   "cell_type": "code",
   "execution_count": 21,
   "metadata": {},
   "outputs": [
    {
     "name": "stdout",
     "output_type": "stream",
     "text": [
      "Ram 23\n"
     ]
    }
   ],
   "source": [
    "class Student():\n",
    "    def __init__(self,name,age):\n",
    "        self.name = name\n",
    "        self.age =age \n",
    "    \n",
    "x = Student('Ram',23)\n",
    "print(x.name , x.age)\n"
   ]
  },
  {
   "cell_type": "code",
   "execution_count": 17,
   "metadata": {},
   "outputs": [
    {
     "name": "stdout",
     "output_type": "stream",
     "text": [
      "enter name = ram\n",
      "enter age = 33\n",
      "ram 33\n"
     ]
    }
   ],
   "source": [
    "class Student:\n",
    "    def __init__(self,name,age):\n",
    "        self.name = name\n",
    "        self.age = age\n",
    "        \n",
    "    def details(self):\n",
    "        print(name,age)\n",
    "        \n",
    "name = input(\"enter name = \")\n",
    "age = int(input(\"enter age = \"))\n",
    "\n",
    "obj= Student(name,age)\n",
    "obj.details()"
   ]
  },
  {
   "cell_type": "code",
   "execution_count": null,
   "metadata": {},
   "outputs": [],
   "source": []
  },
  {
   "cell_type": "code",
   "execution_count": 12,
   "metadata": {},
   "outputs": [
    {
     "name": "stdout",
     "output_type": "stream",
     "text": [
      "6\n",
      "24\n"
     ]
    }
   ],
   "source": [
    "class Object():\n",
    "    def __init__(self,l,b,h):\n",
    "        self.l = l\n",
    "        self.b =b\n",
    "        self.h =h\n",
    "        \n",
    "    def Area(self,l,b):\n",
    "        a = self.l*self.b\n",
    "        print(a)\n",
    "        \n",
    "    def Volume(self,l,b,h):\n",
    "        vol = self.l*self.b*self.h\n",
    "        print(vol)\n",
    "obj = Object(2,3,4)\n",
    "obj.Area(2,3)\n",
    "obj.Volume(2,3,4)\n"
   ]
  },
  {
   "cell_type": "code",
   "execution_count": 2,
   "metadata": {},
   "outputs": [
    {
     "name": "stdout",
     "output_type": "stream",
     "text": [
      "6\n",
      "24\n"
     ]
    }
   ],
   "source": [
    "class Object():\n",
    "    def __init__(self,l,b,h):\n",
    "        self.l = l\n",
    "        self.b =b\n",
    "        self.h =h\n",
    "        \n",
    "    def Area(other,l,b):\n",
    "        a = other.l*other.b\n",
    "        print(a)\n",
    "        \n",
    "    def Volume(self,l,b,h):\n",
    "        vol = self.l*self.b*self.h\n",
    "        print(vol)\n",
    "        \n",
    "obj = Object(2,3,4)\n",
    "obj.Area(2,3)\n",
    "obj.Volume(2,3,4)\n"
   ]
  },
  {
   "cell_type": "code",
   "execution_count": 28,
   "metadata": {},
   "outputs": [
    {
     "name": "stdout",
     "output_type": "stream",
     "text": [
      "enter n=2\n",
      "2\n",
      "ram 22 ktm 87987987\n"
     ]
    }
   ],
   "source": [
    "class Person:\n",
    "    n = int(input(\"enter n=\"))\n",
    "    \n",
    "    def __init__(self,name,age,address,phone):\n",
    "        self.name = name\n",
    "        self.age =age\n",
    "        self.add = address\n",
    "        self.phone = phone\n",
    "        \n",
    "obj = Person(\"ram\",22,\"ktm\",87987987)\n",
    "print(obj.n)\n",
    "print(obj.name, obj.age , obj.add, obj.phone)\n"
   ]
  },
  {
   "cell_type": "code",
   "execution_count": 30,
   "metadata": {},
   "outputs": [
    {
     "name": "stdout",
     "output_type": "stream",
     "text": [
      "the person name is Ram and i am 22\n"
     ]
    }
   ],
   "source": [
    "class Person:\n",
    "    def __init__(self,name,age):\n",
    "        self.name = name\n",
    "        self.age = age\n",
    "    \n",
    "    def myfunc(self):\n",
    "        print(f\"the person name is {self.name} and i am {self.age}\")\n",
    "        \n",
    "obj = Person(\"Ram\",22)\n",
    "obj.myfunc()\n"
   ]
  },
  {
   "cell_type": "code",
   "execution_count": 31,
   "metadata": {},
   "outputs": [
    {
     "name": "stdout",
     "output_type": "stream",
     "text": [
      "the person name is Ram and i am 22\n",
      "Ram 22\n"
     ]
    }
   ],
   "source": [
    "class Person:\n",
    "    def __init__(self,name,age):\n",
    "        self.name = name\n",
    "        self.age = age\n",
    "    \n",
    "    def myfunc(self):\n",
    "        print(f\"the person name is {self.name} and i am {self.age}\")\n",
    "        \n",
    "obj = Person(\"Ram\",22)\n",
    "obj.myfunc()\n",
    "print(obj.name , obj.age)"
   ]
  },
  {
   "cell_type": "code",
   "execution_count": 3,
   "metadata": {},
   "outputs": [
    {
     "name": "stdout",
     "output_type": "stream",
     "text": [
      "the person name is Ram\n"
     ]
    }
   ],
   "source": [
    "class Person:\n",
    "    def __init__(self,name,age):\n",
    "        self.name = name\n",
    "        self.age = age\n",
    "    \n",
    "    def myfunc(self):\n",
    "        print(\"the person name is\" , self.name )\n",
    "       \n",
    "        \n",
    "obj = Person(\"Ram\",22)\n",
    "obj.myfunc()"
   ]
  },
  {
   "cell_type": "code",
   "execution_count": 42,
   "metadata": {},
   "outputs": [
    {
     "name": "stdout",
     "output_type": "stream",
     "text": [
      "hello i amRam\n",
      "56\n"
     ]
    }
   ],
   "source": [
    "class Person:\n",
    "    def __init__(self,name,age):\n",
    "        self.name = name\n",
    "        self.age = age\n",
    "        \n",
    "    def myfunc(self):\n",
    "        print(\"hello i am\" +self.name)\n",
    "        \n",
    "obj = Person(\"Ram\", 67)\n",
    "obj.myfunc()\n",
    "\n",
    "obj.age = 56\n",
    "print(obj.age)\n",
    "\n",
    "        "
   ]
  },
  {
   "cell_type": "code",
   "execution_count": 45,
   "metadata": {},
   "outputs": [
    {
     "name": "stdout",
     "output_type": "stream",
     "text": [
      "98987898 44\n"
     ]
    }
   ],
   "source": [
    "class Student:\n",
    "    def __init__(self,name,age,add,phone):\n",
    "        self.name = name\n",
    "        self.age = age\n",
    "        self.add = add\n",
    "        self.phone = phone\n",
    "        \n",
    "    def details(self,phone,age):\n",
    "        d = self.phone + self.age\n",
    "        \n",
    "obj = Student(\"ram\",44,\"ktm\",98987898)\n",
    "obj.details(\"ram\",88)\n",
    "print(obj.phone , obj.age)\n",
    "    "
   ]
  },
  {
   "cell_type": "code",
   "execution_count": 46,
   "metadata": {},
   "outputs": [
    {
     "name": "stdout",
     "output_type": "stream",
     "text": [
      "33\n",
      "98987898 33\n"
     ]
    }
   ],
   "source": [
    "class Student:                                          #in this way details can be edited\n",
    "    def __init__(self,name,age,add,phone):\n",
    "        self.name = name\n",
    "        self.age = age\n",
    "        self.add = add\n",
    "        self.phone = phone\n",
    "        \n",
    "    def details(self,phone,age):\n",
    "        d = self.phone + self.age\n",
    "        \n",
    "obj = Student(\"ram\",44,\"ktm\",98987898)\n",
    "obj.details(\"ram\",44)\n",
    "obj.age = 33\n",
    "print(obj.age)\n",
    "print(obj.phone , obj.age)\n",
    "    "
   ]
  },
  {
   "cell_type": "code",
   "execution_count": 5,
   "metadata": {},
   "outputs": [
    {
     "name": "stdout",
     "output_type": "stream",
     "text": [
      "the area is  6\n",
      "volume is 24\n"
     ]
    }
   ],
   "source": [
    "class Math:\n",
    "    def myfunc(self,l,b,h):\n",
    "        self.l = l\n",
    "        self.b = b\n",
    "        self.h = h\n",
    "    def Area(self,l,b):\n",
    "        a = self.l* self.b\n",
    "        print(\"the area is \", a)\n",
    "        \n",
    "    def Volume(self,l,b,h):\n",
    "        b = self.l * self.b *self.h\n",
    "        print(\"volume is\", b)\n",
    "\n",
    "obj = Math()\n",
    "obj.myfunc(2,3,4)\n",
    "obj.Area(2,3)\n",
    "obj.Volume(2,3,4)"
   ]
  },
  {
   "cell_type": "code",
   "execution_count": 18,
   "metadata": {},
   "outputs": [
    {
     "name": "stdout",
     "output_type": "stream",
     "text": [
      "enter l=2\n",
      "enter b=3\n",
      "enter h =4\n",
      "area is 6\n",
      "volume is 24\n"
     ]
    }
   ],
   "source": [
    "class Area:\n",
    "    def __init__(self,l,b):\n",
    "        self.l = l\n",
    "        self.b = b\n",
    "    def myarea(self):\n",
    "        a = self.l*self.b\n",
    "        print(\"area is\",a)\n",
    "class Volume:\n",
    "    def __init__(self,l,b,h):\n",
    "        self.l = l\n",
    "        self.b = b\n",
    "        self.h = h\n",
    "    def myvol(self):\n",
    "        v = self.l*self.b*self.h\n",
    "        print(\"volume is\",v)\n",
    "        \n",
    "l = int(input(\"enter l=\"))\n",
    "b = int(input(\"enter b=\"))\n",
    "h = int(input(\"enter h =\"))\n",
    "        \n",
    "obj = Area(l,b)\n",
    "obj.myarea()\n",
    "obj1 = Volume(l,b,h)\n",
    "obj1.myvol()\n",
    "\n",
    "    "
   ]
  },
  {
   "cell_type": "code",
   "execution_count": null,
   "metadata": {},
   "outputs": [],
   "source": [
    "# __str__method = this method returns string representation of an object.\n",
    "       #         = this method is called when print() or str() is invoked on an object"
   ]
  },
  {
   "cell_type": "code",
   "execution_count": 21,
   "metadata": {},
   "outputs": [
    {
     "name": "stdout",
     "output_type": "stream",
     "text": [
      "enter l = 2\n",
      "enter b = 3\n",
      "6\n",
      "2 3\n",
      "<class '__main__.Hello'>\n",
      "2 3\n"
     ]
    }
   ],
   "source": [
    "class Hello:\n",
    "    def __init__(self,l,b):\n",
    "        self.l = l\n",
    "        self.b = b\n",
    "    \n",
    "    def __str__(self):\n",
    "        return f\"{self.l} {self.b}\"\n",
    "    \n",
    "    def area(self):\n",
    "        a = self.l * self.b\n",
    "        print(a)\n",
    "        \n",
    "l = int(input(\"enter l = \"))\n",
    "b = int(input(\"enter b = \"))\n",
    "\n",
    "obj = Hello(l,b)\n",
    "obj.area()\n",
    "print(obj)\n",
    "print(type(obj))\n",
    "print(obj.__str__())"
   ]
  },
  {
   "cell_type": "code",
   "execution_count": null,
   "metadata": {},
   "outputs": [],
   "source": [
    "# __repr__ method = it returns object representation. it can be any valid python expression like tuple,dict,string"
   ]
  },
  {
   "cell_type": "code",
   "execution_count": 26,
   "metadata": {},
   "outputs": [
    {
     "name": "stdout",
     "output_type": "stream",
     "text": [
      "enter l = 2\n",
      "enter b = 3\n",
      "6\n",
      "[2, 3]\n",
      "<class 'list'>\n"
     ]
    }
   ],
   "source": [
    "class Hello:\n",
    "    def __init__(self,l,b):\n",
    "        self.l = l\n",
    "        self.b = b\n",
    "    \n",
    "    def __repr__(self):\n",
    "        return [self.l,self.b]\n",
    "    \n",
    "    def area(self):\n",
    "        a = self.l * self.b\n",
    "        print(a)\n",
    "        \n",
    "l = int(input(\"enter l = \"))\n",
    "b = int(input(\"enter b = \"))\n",
    "\n",
    "obj = Hello(l,b)\n",
    "obj.area()\n",
    "\n",
    "\n",
    "print(obj.__repr__())\n",
    "print(type(obj.__repr__()))"
   ]
  },
  {
   "cell_type": "code",
   "execution_count": 27,
   "metadata": {},
   "outputs": [
    {
     "name": "stdout",
     "output_type": "stream",
     "text": [
      "enter l = 2\n",
      "enter b = 3\n",
      "6\n",
      "(2, 3)\n",
      "<class 'tuple'>\n"
     ]
    }
   ],
   "source": [
    "class Hello:\n",
    "    def __init__(self,l,b):\n",
    "        self.l = l\n",
    "        self.b = b\n",
    "    \n",
    "    def __repr__(self):\n",
    "        return (self.l,self.b)\n",
    "    \n",
    "    def area(self):\n",
    "        a = self.l * self.b\n",
    "        print(a)\n",
    "        \n",
    "l = int(input(\"enter l = \"))\n",
    "b = int(input(\"enter b = \"))\n",
    "\n",
    "obj = Hello(l,b)\n",
    "obj.area()\n",
    "\n",
    "\n",
    "print(obj.__repr__())\n",
    "print(type(obj.__repr__()))"
   ]
  },
  {
   "cell_type": "code",
   "execution_count": 30,
   "metadata": {},
   "outputs": [
    {
     "name": "stdout",
     "output_type": "stream",
     "text": [
      "enter name = ram\n",
      "enter age =33\n",
      " i am ram and i am 33\n",
      "['ram', 33]\n",
      "<class 'list'>\n"
     ]
    }
   ],
   "source": [
    "class Person:\n",
    "    def __init__(self,name,age):\n",
    "        self.age = age\n",
    "        self.name = name\n",
    "        \n",
    "    def __repr__(self):\n",
    "        return [self.name,self.age]\n",
    "    \n",
    "    def detils(self):\n",
    "        print(f\" i am {self.name} and i am {self.age}\")\n",
    "        \n",
    "name = input(\"enter name = \")\n",
    "age = int(input(\"enter age =\"))\n",
    "\n",
    "obj = Person(name,age)\n",
    "obj.detils()\n",
    "\n",
    "print(obj.__repr__())\n",
    "print(type(obj.__repr__()))"
   ]
  },
  {
   "cell_type": "code",
   "execution_count": null,
   "metadata": {},
   "outputs": [],
   "source": [
    "# Operator Overloading = the feature in Python that allows same operator to have different meaning according to context."
   ]
  },
  {
   "cell_type": "code",
   "execution_count": 38,
   "metadata": {},
   "outputs": [
    {
     "name": "stdout",
     "output_type": "stream",
     "text": [
      "this is int method 2 3\n",
      "this is int method -1 3\n",
      "this is add method 1 6\n",
      "this is int method 1 6\n",
      "this is string method 1 6\n",
      "(1,6)\n"
     ]
    }
   ],
   "source": [
    "class Point:\n",
    "    def __init__(self, x=0,y=0):\n",
    "        self.x = x\n",
    "        self.y =y\n",
    "        print(\"this is int method\",self.x,self.y)\n",
    "        \n",
    "    def __str__(self):\n",
    "        print(\"this is string method\",self.x ,self.y)\n",
    "        return \"({0},{1})\".format(self.x,self.y)\n",
    "        \n",
    "        \n",
    "    def __add__(self,other):\n",
    "        x = self.x + other.x\n",
    "        y = self.y + other.y\n",
    "        print(\"this is add method\",x,y)\n",
    "        return Point(x,y)\n",
    "        \n",
    "p1 = Point(2,3)\n",
    "p2 = Point(-1,3)\n",
    "\n",
    "print(p1+p2)\n"
   ]
  },
  {
   "cell_type": "code",
   "execution_count": 41,
   "metadata": {},
   "outputs": [
    {
     "name": "stdout",
     "output_type": "stream",
     "text": [
      "this is int method 2 3\n",
      "this is int method -1 3\n",
      "this is add method 1 6\n",
      "this is int method 1 6\n",
      "this is string method 1 6\n",
      "1,6\n"
     ]
    }
   ],
   "source": [
    "class Point:\n",
    "    def __init__(self, x=0,y=0):\n",
    "        self.x = x\n",
    "        self.y =y\n",
    "        print(\"this is int method\",self.x,self.y)\n",
    "        \n",
    "    def __str__(self):\n",
    "        print(\"this is string method\",self.x ,self.y)\n",
    "        return f\"{self.x},{self.y}\"\n",
    "        \n",
    "        \n",
    "    def __add__(self,other):\n",
    "        x = self.x + other.x\n",
    "        y = self.y + other.y\n",
    "        print(\"this is add method\",x,y)\n",
    "        return Point(x,y)\n",
    "        \n",
    "p1 = Point(2,3)\n",
    "p2 = Point(-1,3)\n",
    "\n",
    "print(p1+p2)"
   ]
  },
  {
   "cell_type": "code",
   "execution_count": 42,
   "metadata": {},
   "outputs": [
    {
     "name": "stdout",
     "output_type": "stream",
     "text": [
      "this is int method 1000\n",
      "this is int method 2000\n",
      "this is int method 1500\n",
      "this is add method 2500\n",
      "this is int method 2500\n",
      "this is string method 2500\n",
      "2500\n"
     ]
    }
   ],
   "source": [
    "class Point:\n",
    "    def __init__(self, x=0):\n",
    "        self.x = x\n",
    "       \n",
    "        print(\"this is int method\",self.x)\n",
    "        \n",
    "    def __str__(self):\n",
    "        print(\"this is string method\",self.x)\n",
    "        return f\"{self.x}\"\n",
    "        \n",
    "        \n",
    "    def __add__(self,other):\n",
    "        x = self.x + other.x\n",
    "       \n",
    "        print(\"this is add method\",x)\n",
    "        return Point(x)\n",
    "        \n",
    "p1 = Point(1000)\n",
    "p2 = Point(2000)\n",
    "p2 = Point(1500)\n",
    "\n",
    "print(p1+p2)"
   ]
  },
  {
   "cell_type": "code",
   "execution_count": 43,
   "metadata": {},
   "outputs": [
    {
     "name": "stdout",
     "output_type": "stream",
     "text": [
      "this is int method 1000\n",
      "this is int method 2000\n",
      "this is int method 1500\n",
      "this is add method 3000\n",
      "this is int method 3000\n",
      "this is add method 4500\n",
      "this is int method 4500\n",
      "this is string method 4500\n",
      "4500\n"
     ]
    }
   ],
   "source": [
    "class Point:\n",
    "    def __init__(self, x=0):\n",
    "        self.x = x\n",
    "       \n",
    "        print(\"this is int method\",self.x)\n",
    "        \n",
    "    def __str__(self):\n",
    "        print(\"this is string method\",self.x)\n",
    "        return f\"{self.x}\"\n",
    "        \n",
    "        \n",
    "    def __add__(self,other):\n",
    "        x = self.x + other.x\n",
    "       \n",
    "        print(\"this is add method\",x)\n",
    "        return Point(x)\n",
    "        \n",
    "p1 = Point(1000)\n",
    "p2 = Point(2000)\n",
    "p3 = Point(1500)\n",
    "\n",
    "print(p1+p2+p3)"
   ]
  },
  {
   "cell_type": "code",
   "execution_count": null,
   "metadata": {},
   "outputs": [],
   "source": [
    "# Polymorphism = that can be created into many forms"
   ]
  },
  {
   "cell_type": "code",
   "execution_count": 48,
   "metadata": {},
   "outputs": [
    {
     "name": "stdout",
     "output_type": "stream",
     "text": [
      "Parrot can fly\n",
      "Penguin can fly\n",
      "Parrot can't swim\n",
      "Penguin can swim\n"
     ]
    }
   ],
   "source": [
    "class Parrot:\n",
    "    def fly(self):\n",
    "        print(\"Parrot can fly\")\n",
    "    def swim(self):\n",
    "        print(\"Parrot can't swim\")\n",
    "        \n",
    "class Penguin:\n",
    "    def fly(self):\n",
    "        print(\"Penguin can fly\")\n",
    "    def swim(self):\n",
    "        print(\"Penguin can swim\")\n",
    "\n",
    "#common interface\n",
    "def flying_test(bird):\n",
    "    bird.fly()\n",
    "    \n",
    "def swim_test(bird):\n",
    "    bird.swim()\n",
    "    \n",
    "#instantiate object\n",
    "blu = Parrot()\n",
    "peg = Penguin()\n",
    "\n",
    "#passing object\n",
    "\n",
    "flying_test(blu)\n",
    "flying_test(peg)\n",
    "        \n",
    "swim_test(blu)\n",
    "swim_test(peg)"
   ]
  },
  {
   "cell_type": "code",
   "execution_count": null,
   "metadata": {},
   "outputs": [],
   "source": []
  }
 ],
 "metadata": {
  "kernelspec": {
   "display_name": "Python 3",
   "language": "python",
   "name": "python3"
  },
  "language_info": {
   "codemirror_mode": {
    "name": "ipython",
    "version": 3
   },
   "file_extension": ".py",
   "mimetype": "text/x-python",
   "name": "python",
   "nbconvert_exporter": "python",
   "pygments_lexer": "ipython3",
   "version": "3.7.3"
  }
 },
 "nbformat": 4,
 "nbformat_minor": 2
}
