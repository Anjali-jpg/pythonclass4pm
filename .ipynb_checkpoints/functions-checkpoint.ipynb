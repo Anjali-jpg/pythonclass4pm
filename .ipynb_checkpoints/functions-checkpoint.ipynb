{
 "cells": [
  {
   "cell_type": "code",
   "execution_count": null,
   "metadata": {},
   "outputs": [],
   "source": [
    "#-Pre-defined\n",
    "print()\n",
    "int()\n",
    "float()\n",
    "list()\n",
    "dict()\n",
    "tuple()"
   ]
  },
  {
   "cell_type": "code",
   "execution_count": null,
   "metadata": {},
   "outputs": [],
   "source": [
    "#user-defined"
   ]
  },
  {
   "cell_type": "code",
   "execution_count": 1,
   "metadata": {},
   "outputs": [
    {
     "name": "stdout",
     "output_type": "stream",
     "text": [
      "hello world\n"
     ]
    }
   ],
   "source": [
    "def hello():\n",
    "    print(\"hello world\")\n",
    "hello()"
   ]
  },
  {
   "cell_type": "code",
   "execution_count": 2,
   "metadata": {},
   "outputs": [
    {
     "name": "stdout",
     "output_type": "stream",
     "text": [
      "hello world\n"
     ]
    }
   ],
   "source": [
    "def hello(x):                #with parameters\n",
    "    print(x)\n",
    "hello(\"hello world\")"
   ]
  },
  {
   "cell_type": "code",
   "execution_count": 4,
   "metadata": {},
   "outputs": [
    {
     "name": "stdout",
     "output_type": "stream",
     "text": [
      "enter l=1\n",
      "enter b=2\n",
      "enter h=3\n",
      "6\n"
     ]
    }
   ],
   "source": [
    "def calc():                               #calculation pblm\n",
    "    l=int(input(\"enter l=\"))\n",
    "    b=int(input(\"enter b=\"))\n",
    "    h=int(input(\"enter h=\"))\n",
    "    v=l*b*h\n",
    "    print(v)\n",
    "calc()"
   ]
  },
  {
   "cell_type": "code",
   "execution_count": 6,
   "metadata": {},
   "outputs": [
    {
     "name": "stdout",
     "output_type": "stream",
     "text": [
      "enter l=2\n",
      "enter b=3\n",
      "enter h=4\n",
      "24\n",
      "enter l=5\n",
      "enter b=5\n",
      "enter h=6\n",
      "150\n",
      "enter l=6\n",
      "enter b=6\n",
      "enter h=6\n",
      "216\n",
      "enter l=1\n",
      "enter b=1\n",
      "enter h=1\n",
      "1\n",
      "enter l=1\n",
      "enter b=2\n",
      "enter h=3\n",
      "6\n"
     ]
    }
   ],
   "source": [
    "def calc():                               #calculation pblm\n",
    "    l=int(input(\"enter l=\"))\n",
    "    b=int(input(\"enter b=\"))\n",
    "    h=int(input(\"enter h=\"))\n",
    "    v=l*b*h\n",
    "    print(v) \n",
    "for i in range(5):\n",
    "        calc()"
   ]
  },
  {
   "cell_type": "code",
   "execution_count": 7,
   "metadata": {},
   "outputs": [
    {
     "name": "stdout",
     "output_type": "stream",
     "text": [
      "enter l=3\n",
      "enter b=3\n",
      "enter h=3\n",
      "27\n"
     ]
    }
   ],
   "source": [
    "def calc():                               #calculation pblm by local variables\n",
    "    l=int(input(\"enter l=\"))\n",
    "    b=int(input(\"enter b=\"))             #local variables are the one that is calculated inside function\n",
    "    h=int(input(\"enter h=\"))\n",
    "    v=l*b*h\n",
    "    print(v) \n",
    "calc()"
   ]
  },
  {
   "cell_type": "code",
   "execution_count": 8,
   "metadata": {},
   "outputs": [
    {
     "name": "stdout",
     "output_type": "stream",
     "text": [
      "enter l=2\n",
      "enter b=2\n",
      "enter h=2\n",
      "8\n"
     ]
    }
   ],
   "source": [
    "def calc():                               #calculation pblm by global variables\n",
    "   \n",
    "    v=l*b*h\n",
    "    print(v)\n",
    "l=int(input(\"enter l=\"))\n",
    "b=int(input(\"enter b=\"))             #global variables are the one that is calculated outside function\n",
    "h=int(input(\"enter h=\"))\n",
    "calc()"
   ]
  },
  {
   "cell_type": "code",
   "execution_count": 9,
   "metadata": {},
   "outputs": [
    {
     "name": "stdout",
     "output_type": "stream",
     "text": [
      "enter l=2\n",
      "enter b=2\n",
      "enter h=2\n",
      "8\n"
     ]
    }
   ],
   "source": [
    "l=int(input(\"enter l=\"))\n",
    "b=int(input(\"enter b=\"))             #global variables are the one that is calculated outside function\n",
    "h=int(input(\"enter h=\"))\n",
    "\n",
    "def calc():                               #calculation pblm by global variables\n",
    "   \n",
    "    v=l*b*h\n",
    "    print(v)\n",
    "\n",
    "calc()"
   ]
  },
  {
   "cell_type": "code",
   "execution_count": null,
   "metadata": {},
   "outputs": [],
   "source": []
  }
 ],
 "metadata": {
  "kernelspec": {
   "display_name": "Python 3",
   "language": "python",
   "name": "python3"
  },
  "language_info": {
   "codemirror_mode": {
    "name": "ipython",
    "version": 3
   },
   "file_extension": ".py",
   "mimetype": "text/x-python",
   "name": "python",
   "nbconvert_exporter": "python",
   "pygments_lexer": "ipython3",
   "version": "3.7.3"
  }
 },
 "nbformat": 4,
 "nbformat_minor": 2
}
