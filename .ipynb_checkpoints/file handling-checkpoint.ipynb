{
 "cells": [
  {
   "cell_type": "code",
   "execution_count": null,
   "metadata": {},
   "outputs": [],
   "source": [
    "#file handling\n",
    "-'r': read operation\n",
    "-'a': append operation\n",
    "-'w':write operation\n",
    "-'x':create"
   ]
  },
  {
   "cell_type": "code",
   "execution_count": 1,
   "metadata": {},
   "outputs": [],
   "source": [
    "b=open(\"data.txt\",'x')                      #file is created\n",
    "b.close()"
   ]
  },
  {
   "cell_type": "code",
   "execution_count": 2,
   "metadata": {},
   "outputs": [
    {
     "name": "stdout",
     "output_type": "stream",
     "text": [
      "1.hello python\n",
      "2.hello python\n",
      "3.hello python\n",
      "4.hello python\n",
      "5.hello python\n",
      "6.hello python\n",
      "7.hello python\n",
      "8.hello python\n",
      "9.hello python\n",
      "10.hello python\n"
     ]
    }
   ],
   "source": [
    "b=open(\"data.txt\",'r')                       #the data inside file is read\n",
    "print(b.read())\n",
    "b.close()"
   ]
  },
  {
   "cell_type": "code",
   "execution_count": 3,
   "metadata": {},
   "outputs": [
    {
     "name": "stdout",
     "output_type": "stream",
     "text": [
      "1.hello python\n",
      "2.hello python\n",
      "3.hello python\n",
      "4.hello python\n",
      "5.hello python\n",
      "6.hello python\n",
      "7.hello python\n",
      "8.hello python\n",
      "9.hello python\n",
      "10.hello python\n"
     ]
    }
   ],
   "source": [
    "b=open(\"data.txt\",'r')                       #the data inside file is read\n",
    "x=b.read()\n",
    "print(x)\n",
    "b.close()"
   ]
  },
  {
   "cell_type": "code",
   "execution_count": 6,
   "metadata": {},
   "outputs": [
    {
     "name": "stdout",
     "output_type": "stream",
     "text": [
      "1.hello python\n",
      "2.hello python\n",
      "3.hello python\n",
      "4.hello python\n",
      "5.hello python\n",
      "6.hello python\n",
      "7.hello python\n",
      "8.hello python\n",
      "9.hello python\n",
      "10.hello python\n",
      "<class 'str'>\n"
     ]
    }
   ],
   "source": [
    "b=open(\"data.txt\",'r')                       #the data inside file is read\n",
    "x=b.read()\n",
    "print(x)\n",
    "print(type(x))\n",
    "b.close()"
   ]
  },
  {
   "cell_type": "code",
   "execution_count": 7,
   "metadata": {},
   "outputs": [
    {
     "name": "stdout",
     "output_type": "stream",
     "text": [
      "1.hello python\n",
      "2.hello python\n",
      "3.hello python\n",
      "4.hello python\n",
      "5.hello python\n",
      "6.hello python\n",
      "7.hello py\n"
     ]
    }
   ],
   "source": [
    "b=open(\"data.txt\",'r')                       #the data inside file is read\n",
    "x=b.read(100)\n",
    "print(x)\n",
    "b.close()"
   ]
  },
  {
   "cell_type": "code",
   "execution_count": 5,
   "metadata": {},
   "outputs": [
    {
     "name": "stdout",
     "output_type": "stream",
     "text": [
      "1.hello python\n",
      "\n"
     ]
    }
   ],
   "source": [
    "b=open(\"data.txt\",'r')                       #readline is used to read the character upto some limit\n",
    "print(b.readline(70))\n",
    "b.close()"
   ]
  },
  {
   "cell_type": "code",
   "execution_count": 10,
   "metadata": {},
   "outputs": [
    {
     "name": "stdout",
     "output_type": "stream",
     "text": [
      "1.hello python\n",
      "\n",
      "2.hello python\n",
      "\n",
      "3.hello python\n",
      "\n"
     ]
    }
   ],
   "source": [
    "b=open(\"data.txt\",'r')                       #readline is used to read the character upto some limit\n",
    "print(b.readline())\n",
    "print(b.readline())\n",
    "print(b.readline())\n",
    "b.close()"
   ]
  },
  {
   "cell_type": "code",
   "execution_count": 12,
   "metadata": {},
   "outputs": [
    {
     "name": "stdout",
     "output_type": "stream",
     "text": [
      "enter line=4\n",
      "4.hello python\n",
      "\n"
     ]
    }
   ],
   "source": [
    "b=open(\"data.txt\",'r')\n",
    "n=10\n",
    "line=int(input(\"enter line=\"))\n",
    "for i in range(1,11):\n",
    "    if line!=i:\n",
    "        b.readline()\n",
    "    else:\n",
    "        print(b.readline())\n",
    "b.close()   "
   ]
  },
  {
   "cell_type": "code",
   "execution_count": 15,
   "metadata": {},
   "outputs": [
    {
     "name": "stdout",
     "output_type": "stream",
     "text": [
      "enter line=0\n"
     ]
    }
   ],
   "source": [
    "b=open(\"data.txt\",'r')\n",
    "n=10\n",
    "line=int(input(\"enter line=\"))\n",
    "for i in range(1,11):\n",
    "    if line!=i:\n",
    "        b.readline()\n",
    "    else:\n",
    "        print(b.readline())\n",
    "b.close()   "
   ]
  },
  {
   "cell_type": "code",
   "execution_count": 16,
   "metadata": {},
   "outputs": [],
   "source": [
    "b=open(\"data1.txt\",'a')             #append aaded data to new file\n",
    "b.write(\"hello world\")\n",
    "b.close()"
   ]
  },
  {
   "cell_type": "code",
   "execution_count": 17,
   "metadata": {},
   "outputs": [],
   "source": [
    "b=open(\"data1.txt\",'a')\n",
    "b.write(\"hello world\")\n",
    "\n",
    "b.close()"
   ]
  },
  {
   "cell_type": "code",
   "execution_count": 18,
   "metadata": {},
   "outputs": [
    {
     "name": "stdout",
     "output_type": "stream",
     "text": [
      "enter n=2\n",
      "enter name=ram\n",
      "enter age=33\n",
      "enter address=ktm\n",
      "enter name=sita\n",
      "enter age=77\n",
      "enter address=patan\n",
      "ram 33 ktm\n",
      "sita 77 patan\n",
      "\n"
     ]
    }
   ],
   "source": [
    "s=str()\n",
    "n=int(input(\"enter n=\"))\n",
    "for i in range(n):\n",
    "    name=input(\"enter name=\")\n",
    "    age=int(input(\"enter age=\"))\n",
    "    add=input(\"enter address=\")\n",
    "    s=s+f\"{name} {age} {add}\\n\"\n",
    "print(s)\n",
    "\n",
    "b=open(\"data1.txt\",'a')\n",
    "b.write(s)\n",
    "b.close()"
   ]
  },
  {
   "cell_type": "code",
   "execution_count": 20,
   "metadata": {},
   "outputs": [
    {
     "name": "stdout",
     "output_type": "stream",
     "text": [
      "ram 33 ktm\n",
      "sita 77 patan\n",
      "\n"
     ]
    }
   ],
   "source": [
    "b=open(\"data1.txt\",'r')\n",
    "print(b.read())\n",
    "b.close()"
   ]
  },
  {
   "cell_type": "code",
   "execution_count": null,
   "metadata": {},
   "outputs": [],
   "source": [
    "s=str()\n",
    "n=int(input(\"enter n=\"))\n",
    "for i in range(n):\n",
    "    name=input(\"enter name=\")\n",
    "    age=int(input(\"enter age=\"))\n",
    "    add=input(\"enter address=\")\n",
    "    s=s+f\"{name},{age},{add}\\n\"\n",
    "print(s)\n",
    "\n",
    "b=open(\"data1.csv\",'a')\n",
    "b.write(s)\n",
    "b.close()"
   ]
  }
 ],
 "metadata": {
  "kernelspec": {
   "display_name": "Python 3",
   "language": "python",
   "name": "python3"
  },
  "language_info": {
   "codemirror_mode": {
    "name": "ipython",
    "version": 3
   },
   "file_extension": ".py",
   "mimetype": "text/x-python",
   "name": "python",
   "nbconvert_exporter": "python",
   "pygments_lexer": "ipython3",
   "version": "3.7.3"
  }
 },
 "nbformat": 4,
 "nbformat_minor": 2
}
