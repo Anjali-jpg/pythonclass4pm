{
 "cells": [
  {
   "cell_type": "code",
   "execution_count": null,
   "metadata": {},
   "outputs": [],
   "source": [
    "#string"
   ]
  },
  {
   "cell_type": "code",
   "execution_count": 1,
   "metadata": {},
   "outputs": [
    {
     "name": "stdout",
     "output_type": "stream",
     "text": [
      "hello world\n"
     ]
    }
   ],
   "source": [
    "a=\"hello world\"\n",
    "print(a)"
   ]
  },
  {
   "cell_type": "code",
   "execution_count": 2,
   "metadata": {},
   "outputs": [
    {
     "name": "stdout",
     "output_type": "stream",
     "text": [
      "enter a=ram\n",
      "ram\n"
     ]
    }
   ],
   "source": [
    "a=input(\"enter a=\")\n",
    "print(a)"
   ]
  },
  {
   "cell_type": "code",
   "execution_count": 3,
   "metadata": {},
   "outputs": [
    {
     "name": "stdout",
     "output_type": "stream",
     "text": [
      "<class 'str'>\n"
     ]
    }
   ],
   "source": [
    "print(type(a))"
   ]
  },
  {
   "cell_type": "code",
   "execution_count": 4,
   "metadata": {},
   "outputs": [
    {
     "name": "stdout",
     "output_type": "stream",
     "text": [
      "3\n"
     ]
    }
   ],
   "source": [
    "print(len(a))"
   ]
  },
  {
   "cell_type": "code",
   "execution_count": 6,
   "metadata": {},
   "outputs": [
    {
     "name": "stdout",
     "output_type": "stream",
     "text": [
      "enter n=2\n",
      "enter b=ram\n",
      "enter b=saita\n",
      "ram saita \n"
     ]
    }
   ],
   "source": [
    "s=str()\n",
    "n=int(input(\"enter n=\"))\n",
    "\n",
    "for i in range(n):\n",
    "    b=input(\"enter b=\")\n",
    "    s=s+b+\" \"\n",
    "print(s)"
   ]
  },
  {
   "cell_type": "code",
   "execution_count": 10,
   "metadata": {},
   "outputs": [
    {
     "name": "stdout",
     "output_type": "stream",
     "text": [
      "enter n=2\n",
      "enter name=ram\n",
      "enter age=22\n",
      "enter add=jkj\n",
      "enter phone=344543665\n",
      "enter name=sita\n",
      "enter age=88\n",
      "enter add=jhdkjh\n",
      "enter phone=897986875\n",
      "ram 22 jkj 344543665\n",
      "sita 88 jhdkjh 897986875\n",
      "\n"
     ]
    }
   ],
   "source": [
    "s=str()\n",
    "n=int(input(\"enter n=\"))                     \n",
    "\n",
    "for i in range(n):\n",
    "    name=input(\"enter name=\")\n",
    "    age=input(\"enter age=\")\n",
    "    add=input(\"enter add=\")\n",
    "    phone=input(\"enter phone=\")\n",
    "    s=s+f\"{name} {age} {add} {phone}\\n\"      #string formatting\n",
    "print(s)"
   ]
  },
  {
   "cell_type": "code",
   "execution_count": 11,
   "metadata": {},
   "outputs": [
    {
     "name": "stdout",
     "output_type": "stream",
     "text": [
      "hello worldhello worldhello world\n"
     ]
    }
   ],
   "source": [
    "a=\"hello world\"\n",
    "print(a*3)"
   ]
  },
  {
   "cell_type": "code",
   "execution_count": 12,
   "metadata": {},
   "outputs": [
    {
     "name": "stdout",
     "output_type": "stream",
     "text": [
      "helloworld\n"
     ]
    }
   ],
   "source": [
    "a=\"hello\"\n",
    "b=\"world\"\n",
    "c=a+b\n",
    "print(c)"
   ]
  },
  {
   "cell_type": "code",
   "execution_count": null,
   "metadata": {},
   "outputs": [],
   "source": [
    "#string formatting"
   ]
  },
  {
   "cell_type": "code",
   "execution_count": 14,
   "metadata": {},
   "outputs": [
    {
     "name": "stdout",
     "output_type": "stream",
     "text": [
      "enter a=ram\n",
      "enter b=sita\n",
      "I am ram and i am sita\n",
      "\n"
     ]
    }
   ],
   "source": [
    "a=input(\"enter a=\")\n",
    "b=input(\"enter b=\")\n",
    "c=f\"I am {a} and i am {b}\\n\"\n",
    "print(c)"
   ]
  },
  {
   "cell_type": "code",
   "execution_count": 15,
   "metadata": {},
   "outputs": [
    {
     "name": "stdout",
     "output_type": "stream",
     "text": [
      "enter n=2\n",
      "enter name=ram\n",
      "enter age=22\n",
      "enter add=ktm\n",
      "enter phone=3443432\n",
      "enter name=sita\n",
      "enter age=33\n",
      "enter add=jdkjf\n",
      "enter phone=9087879070\n",
      "ram 22 ktm 3443432sita 33 jdkjf 9087879070\n",
      "the value of n 9087879103\n"
     ]
    }
   ],
   "source": [
    "s=str()\n",
    "a=0\n",
    "n=int(input(\"enter n=\"))\n",
    "for i in range(n):\n",
    "    name=input(\"enter name=\")\n",
    "    age=int(input(\"enter age=\"))\n",
    "    add=input(\"enter add=\")\n",
    "    phone=int(input(\"enter phone=\"))\n",
    "    a=age+phone\n",
    "    s=s+f\"{name} {age} {add} {phone}\"\n",
    "print(s)\n",
    "print(\"the value of n\",a)\n",
    "    "
   ]
  },
  {
   "cell_type": "code",
   "execution_count": 21,
   "metadata": {},
   "outputs": [
    {
     "name": "stdout",
     "output_type": "stream",
     "text": [
      "enter n=radha\n",
      "no\n"
     ]
    }
   ],
   "source": [
    "a=\"Ram Shyam Hari Sita Gita\"\n",
    "l_a=a.lower()\n",
    "n=input(\"enter n=\")\n",
    "l_n=n.lower()\n",
    "if l_n in l_a:\n",
    "    print(\"yes\")\n",
    "    x=l_a.count(l_n)\n",
    "    print(x)\n",
    "else:\n",
    "    print(\"no\")"
   ]
  },
  {
   "cell_type": "code",
   "execution_count": 3,
   "metadata": {},
   "outputs": [
    {
     "name": "stdout",
     "output_type": "stream",
     "text": [
      "enter n=2\n",
      "enter product=coke\n",
      "enter price=23\n",
      "enter qty=2\n",
      "enter product=fanta\n",
      "enter price=22\n",
      "enter qty=3\n",
      "coke 23 2 46\n",
      "fanta 22 3 66\n",
      "\n",
      "The net_total is 112\n"
     ]
    }
   ],
   "source": [
    "s=str()                                             #total cost pgm\n",
    "net_total=0\n",
    "n=int(input(\"enter n=\"))\n",
    "for i in range(n):\n",
    "    product=input(\"enter product=\")\n",
    "    price=int(input(\"enter price=\"))\n",
    "    qty=int(input(\"enter qty=\"))\n",
    "    total=price*qty\n",
    "    net_total=net_total+total\n",
    "    s=s+f\"{product} {price} {qty} {total}\\n\"\n",
    "print(s)\n",
    "print(\"The net_total is\",net_total)"
   ]
  },
  {
   "cell_type": "code",
   "execution_count": 8,
   "metadata": {},
   "outputs": [
    {
     "name": "stdout",
     "output_type": "stream",
     "text": [
      "enter n=anu\n",
      "it is there\n",
      "4\n"
     ]
    }
   ],
   "source": [
    "a=\"anu anjali anshii amna anu anu anu\"\n",
    "l_a=a.upper()\n",
    "n=input(\"enter n=\")\n",
    "l_n=n.upper()\n",
    "if l_n in l_a:\n",
    "    print(\"it is there\")\n",
    "    x=l_a.count(l_n)\n",
    "    print(x)\n",
    "else:\n",
    "    print(\"no it is not\")"
   ]
  },
  {
   "cell_type": "code",
   "execution_count": null,
   "metadata": {},
   "outputs": [],
   "source": [
    "#string cases\n",
    "#upper() lower() replace() search() count() split() "
   ]
  },
  {
   "cell_type": "code",
   "execution_count": 9,
   "metadata": {},
   "outputs": [
    {
     "data": {
      "text/plain": [
       "'RAM SITA HARI RADHA KRISHNA'"
      ]
     },
     "execution_count": 9,
     "metadata": {},
     "output_type": "execute_result"
    }
   ],
   "source": [
    "a=\"ram sita hari radha krishna\"\n",
    "a.upper()"
   ]
  },
  {
   "cell_type": "code",
   "execution_count": 10,
   "metadata": {},
   "outputs": [
    {
     "name": "stdout",
     "output_type": "stream",
     "text": [
      "RAM SITA HARI RADHA KRISHNA\n"
     ]
    }
   ],
   "source": [
    "a=\"ram sita hari radha krishna\"\n",
    "print(a.upper())"
   ]
  },
  {
   "cell_type": "code",
   "execution_count": 11,
   "metadata": {},
   "outputs": [
    {
     "data": {
      "text/plain": [
       "'ram sita hari radha krishna'"
      ]
     },
     "execution_count": 11,
     "metadata": {},
     "output_type": "execute_result"
    }
   ],
   "source": [
    "a=\"ram sita hari radha krishna\"\n",
    "a.lower()\n"
   ]
  },
  {
   "cell_type": "code",
   "execution_count": 12,
   "metadata": {},
   "outputs": [
    {
     "ename": "NameError",
     "evalue": "name 'ram' is not defined",
     "output_type": "error",
     "traceback": [
      "\u001b[1;31m---------------------------------------------------------------------------\u001b[0m",
      "\u001b[1;31mNameError\u001b[0m                                 Traceback (most recent call last)",
      "\u001b[1;32m<ipython-input-12-829127d57e8f>\u001b[0m in \u001b[0;36m<module>\u001b[1;34m\u001b[0m\n\u001b[0;32m      1\u001b[0m \u001b[0ma\u001b[0m\u001b[1;33m=\u001b[0m\u001b[1;34m\"ram sita hari radha krishna\"\u001b[0m\u001b[1;33m\u001b[0m\u001b[1;33m\u001b[0m\u001b[0m\n\u001b[1;32m----> 2\u001b[1;33m \u001b[0ma\u001b[0m\u001b[1;33m.\u001b[0m\u001b[0mreplace\u001b[0m\u001b[1;33m(\u001b[0m\u001b[0mram\u001b[0m\u001b[1;33m,\u001b[0m\u001b[0mRama\u001b[0m\u001b[1;33m)\u001b[0m\u001b[1;33m\u001b[0m\u001b[1;33m\u001b[0m\u001b[0m\n\u001b[0m",
      "\u001b[1;31mNameError\u001b[0m: name 'ram' is not defined"
     ]
    }
   ],
   "source": [
    "a=\"ram sita hari radha krishna\"\n",
    "a.replace(ram,Rama)"
   ]
  },
  {
   "cell_type": "code",
   "execution_count": 13,
   "metadata": {},
   "outputs": [
    {
     "name": "stdout",
     "output_type": "stream",
     "text": [
      "Rama sita hari radha krishna\n",
      "ram sita hari radha krishna\n"
     ]
    }
   ],
   "source": [
    "a=\"ram sita hari radha krishna\"\n",
    "x=a.replace('ram','Rama')\n",
    "print(x)\n",
    "print(a)"
   ]
  },
  {
   "cell_type": "code",
   "execution_count": 16,
   "metadata": {},
   "outputs": [
    {
     "name": "stdout",
     "output_type": "stream",
     "text": [
      "enter n=hari\n",
      "shyam\n",
      "ram sita hari radha krishna\n"
     ]
    }
   ],
   "source": [
    "a=\"ram sita hari radha krishna\"\n",
    "n=input(\"enter n=\")\n",
    "if 'hari' in a:\n",
    "    x=n.replace('hari','shyam')\n",
    "    print(x)\n",
    "    print(a)\n",
    "    \n",
    "    "
   ]
  },
  {
   "cell_type": "code",
   "execution_count": 17,
   "metadata": {},
   "outputs": [
    {
     "name": "stdout",
     "output_type": "stream",
     "text": [
      "enter search=sita\n",
      "enter change=rita\n",
      "ram rita hari radha krishna\n",
      "ram sita hari radha krishna\n"
     ]
    }
   ],
   "source": [
    "a=\"ram sita hari radha krishna\"\n",
    "search=input(\"enter search=\")\n",
    "change=input(\"enter change=\")\n",
    "x=a.replace(search,change)\n",
    "print(x)\n",
    "print(a)"
   ]
  },
  {
   "cell_type": "code",
   "execution_count": 18,
   "metadata": {},
   "outputs": [
    {
     "data": {
      "text/plain": [
       "2"
      ]
     },
     "execution_count": 18,
     "metadata": {},
     "output_type": "execute_result"
    }
   ],
   "source": [
    "a=\"ram sita hari radha krishna radha\"\n",
    "a.count('radha')"
   ]
  },
  {
   "cell_type": "code",
   "execution_count": 19,
   "metadata": {},
   "outputs": [
    {
     "data": {
      "text/plain": [
       "['ram', 'sita', 'hari', 'radha', 'krishna']"
      ]
     },
     "execution_count": 19,
     "metadata": {},
     "output_type": "execute_result"
    }
   ],
   "source": [
    "a=\"ram sita hari radha krishna\"\n",
    "a.split()"
   ]
  },
  {
   "cell_type": "code",
   "execution_count": 20,
   "metadata": {},
   "outputs": [
    {
     "name": "stdout",
     "output_type": "stream",
     "text": [
      "enter n=radha\n",
      "yes\n",
      "3\n"
     ]
    }
   ],
   "source": [
    "a=\"ram sita hari radha krishna radha radha\"\n",
    "n=input(\"enter n=\")\n",
    "if 'radha' in a:\n",
    "    print(\"yes\")\n",
    "    x=a.count(n)\n",
    "    print(x)"
   ]
  },
  {
   "cell_type": "code",
   "execution_count": 2,
   "metadata": {},
   "outputs": [
    {
     "name": "stdout",
     "output_type": "stream",
     "text": [
      "hello world\n"
     ]
    }
   ],
   "source": [
    "txt=\"hello world\"          #strip() is used to remove whitespace at beginning or end\n",
    "x=txt.strip()\n",
    "print(x)"
   ]
  },
  {
   "cell_type": "code",
   "execution_count": 3,
   "metadata": {},
   "outputs": [
    {
     "name": "stdout",
     "output_type": "stream",
     "text": [
      "Jello World\n"
     ]
    }
   ],
   "source": [
    "txt = \"Hello World\"\n",
    "txt = txt.replace(\"H\",\"J\")\n",
    "print(txt)\n",
    "\n"
   ]
  },
  {
   "cell_type": "code",
   "execution_count": 6,
   "metadata": {},
   "outputs": [
    {
     "name": "stdout",
     "output_type": "stream",
     "text": [
      "My name is John, and I am 36\n"
     ]
    }
   ],
   "source": [
    "age = 36                                           #format() is used to add placeholder\n",
    "txt = \"My name is John, and I am {}\"\n",
    "print(txt.format(age))"
   ]
  },
  {
   "cell_type": "code",
   "execution_count": null,
   "metadata": {},
   "outputs": [],
   "source": []
  }
 ],
 "metadata": {
  "kernelspec": {
   "display_name": "Python 3",
   "language": "python",
   "name": "python3"
  },
  "language_info": {
   "codemirror_mode": {
    "name": "ipython",
    "version": 3
   },
   "file_extension": ".py",
   "mimetype": "text/x-python",
   "name": "python",
   "nbconvert_exporter": "python",
   "pygments_lexer": "ipython3",
   "version": "3.7.3"
  }
 },
 "nbformat": 4,
 "nbformat_minor": 2
}
