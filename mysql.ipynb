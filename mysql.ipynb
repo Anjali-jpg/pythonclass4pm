{
 "cells": [
  {
   "cell_type": "code",
   "execution_count": 8,
   "metadata": {},
   "outputs": [],
   "source": [
    "import mysql.connector                      #sql is used for database and this code is used for python\n",
    "database = mysql.connector.connect(\n",
    "    host=\"localhost\",\n",
    "    user=\"root\",\n",
    "    password=\"\",\n",
    "    database=\"class4pm\"\n",
    ")\n",
    "\n",
    "db = database.cursor()"
   ]
  },
  {
   "cell_type": "code",
   "execution_count": null,
   "metadata": {},
   "outputs": [],
   "source": [
    "#Insertion"
   ]
  },
  {
   "cell_type": "code",
   "execution_count": 6,
   "metadata": {},
   "outputs": [],
   "source": [
    "sql= \"INSERT INTO students(name,roll,physics,chemistry,math,english,nepali,total,per) VALUES('sita',22,56,78,89,55,67,465,75)\"\n",
    "db.execute(sql)\n",
    "database.commit()"
   ]
  },
  {
   "cell_type": "code",
   "execution_count": 7,
   "metadata": {},
   "outputs": [],
   "source": [
    "sql= \"INSERT INTO students(name,roll,physics,chemistry,math,english,nepali,total,per) VALUES('Radha',22,56,78,89,55,67,465,75)\"\n",
    "db.execute(sql)\n",
    "database.commit()"
   ]
  },
  {
   "cell_type": "code",
   "execution_count": null,
   "metadata": {},
   "outputs": [],
   "source": [
    "n = int(input(\"enter n=\"))\n",
    "for i in range(n):\n",
    "    name = input(\"enter name=\")\n",
    "    roll = int(input(\"enter roll\"))\n",
    "    physics = int(input(\"enter physics=\"))\n",
    "    chemistry = int(input(\"enter chemistry=\"))\n",
    "    math = int(input(\"enter math=\"))\n",
    "    english = int(input(\"enter english=\"))\n",
    "    nepali = int(input(\"enter nepali=\"))\n",
    "    total = physics+chemistry+math+english+nepali\n",
    "    per = total/5\n",
    "    sql = f\"INSERT INTO students(name,roll,physics,chemistry,math,english,nepali,total,per) VALUES('{name}',{roll},{physics},{chemistry},{math},{english},{nepali},{total},{per})\"\n",
    "    db.execute(sql)\n",
    "database.commit()"
   ]
  },
  {
   "cell_type": "code",
   "execution_count": null,
   "metadata": {},
   "outputs": [],
   "source": [
    "#Select Query"
   ]
  },
  {
   "cell_type": "code",
   "execution_count": null,
   "metadata": {},
   "outputs": [],
   "source": [
    "db.execute(\"SELECT * FROM students\")\n",
    "\n",
    "result =db.fetchall()\n",
    "for x in result:\n",
    "    print(x)"
   ]
  },
  {
   "cell_type": "code",
   "execution_count": 2,
   "metadata": {},
   "outputs": [
    {
     "name": "stdout",
     "output_type": "stream",
     "text": [
      "(1, 'Ram', 22, 458, 78)\n",
      "(3, 'sita', 22, 465, 75)\n",
      "(4, 'radhaa', 22, 465, 75)\n",
      "(5, 'hari', 33, 354, 71)\n",
      "(6, 'hari', 33, 363, 73)\n",
      "(7, 'shyam', 45, 332, 66)\n",
      "(8, 'sita', 22, 465, 75)\n"
     ]
    }
   ],
   "source": [
    "db.execute(\"SELECT sn,name,roll,total,per FROM students \")\n",
    "\n",
    "result =db.fetchall()\n",
    "for x in result:\n",
    "    print(x)"
   ]
  },
  {
   "cell_type": "code",
   "execution_count": 3,
   "metadata": {},
   "outputs": [
    {
     "name": "stdout",
     "output_type": "stream",
     "text": [
      "(1, 'Ram', 22, 55, 78, 76, 77, 66, 458, 78)\n"
     ]
    }
   ],
   "source": [
    "db.execute(\"SELECt * FROM students WHERE per>75\")\n",
    "\n",
    "result =db.fetchall()\n",
    "for x in result:\n",
    "    print(x)"
   ]
  },
  {
   "cell_type": "code",
   "execution_count": null,
   "metadata": {},
   "outputs": [],
   "source": [
    "#UPDATE QUERY"
   ]
  },
  {
   "cell_type": "code",
   "execution_count": 2,
   "metadata": {},
   "outputs": [],
   "source": [
    "sql = \"UPDATE students SET name ='radhaa' WHERE sn =4\"\n",
    "db.execute(sql)\n",
    "database.commit()"
   ]
  },
  {
   "cell_type": "code",
   "execution_count": 3,
   "metadata": {},
   "outputs": [
    {
     "name": "stdout",
     "output_type": "stream",
     "text": [
      "enter subject(physics,chemistry,math,english,nepali)physics\n",
      "enter student name=sita\n",
      "[(55,), (56,), (56,), (56,), (78,), (67,), (56,)]\n"
     ]
    }
   ],
   "source": [
    "subject = input(\"enter subject(physics,chemistry,math,english,nepali)\")\n",
    "name = input(\"enter student name =\")\n",
    "db.execute(f\" SELECT {subject} FROM students WHERE name = name\")\n",
    "result = db.fetchall()\n",
    "print(result)"
   ]
  },
  {
   "cell_type": "code",
   "execution_count": 5,
   "metadata": {},
   "outputs": [
    {
     "name": "stdout",
     "output_type": "stream",
     "text": [
      "enter subject(physics,chemistry,math,english,nepaliphysics\n",
      "enter student name=sita\n",
      "[(56,), (56,)]\n"
     ]
    }
   ],
   "source": [
    "subject = input(\"enter subject(physics,chemistry,math,english,nepali\")\n",
    "name = input(\"enter student name=\")\n",
    "db.execute(f\" SELECT {subject} FROM students WHERE name = '{name}'\")\n",
    "result = db.fetchall()\n",
    "print(result)"
   ]
  },
  {
   "cell_type": "code",
   "execution_count": 6,
   "metadata": {},
   "outputs": [
    {
     "name": "stdout",
     "output_type": "stream",
     "text": [
      "enter subject(physics,chemistry,math,english,nepaliphysics\n",
      "enter student name=sita\n",
      "56\n"
     ]
    }
   ],
   "source": [
    "subject = input(\"enter subject(physics,chemistry,math,english,nepali\")\n",
    "name = input(\"enter student name=\")\n",
    "db.execute(f\" SELECT {subject} FROM students WHERE name = '{name}'\")\n",
    "result = db.fetchall()[0][0]\n",
    "print(result)"
   ]
  },
  {
   "cell_type": "code",
   "execution_count": 8,
   "metadata": {},
   "outputs": [
    {
     "name": "stdout",
     "output_type": "stream",
     "text": [
      "enter subject(physics,chemistry,math,english,nepaliphysics\n",
      "enter student name=sita\n",
      "56\n",
      "enter new_marks =67\n"
     ]
    }
   ],
   "source": [
    "subject = input(\"enter subject(physics,chemistry,math,english,nepali\")          #new_marks will be updated\n",
    "name = input(\"enter student name=\")\n",
    "db.execute(f\" SELECT {subject} FROM students WHERE name = '{name}'\")\n",
    "result = db.fetchall()[0][0]\n",
    "print(result)\n",
    "\n",
    "new_marks = int(input(\"enter new_marks =\"))\n",
    "\n",
    "sql=f\"UPDATE students SET physics = {new_marks} WHERE name = '{name}'\"\n",
    "db.execute(sql)\n",
    "database.commit()"
   ]
  },
  {
   "cell_type": "code",
   "execution_count": 9,
   "metadata": {},
   "outputs": [
    {
     "name": "stdout",
     "output_type": "stream",
     "text": [
      "enter subject(physics,chemistry,math,english,nepaliphysics\n",
      "enter student name=sita\n",
      "[(67, 465), (67, 465)]\n"
     ]
    }
   ],
   "source": [
    "subject = input(\"enter subject(physics,chemistry,math,english,nepali\")\n",
    "name = input(\"enter student name=\")\n",
    "db.execute(f\" SELECT {subject},total FROM students WHERE name = '{name}'\")\n",
    "result = db.fetchall()\n",
    "print(result)"
   ]
  },
  {
   "cell_type": "code",
   "execution_count": 2,
   "metadata": {},
   "outputs": [
    {
     "name": "stdout",
     "output_type": "stream",
     "text": [
      "enter subject(physics,chemistry,math,english,nepaliphysics\n",
      "enter student name=sita\n",
      "[(67, 465), (67, 465)]\n"
     ]
    }
   ],
   "source": [
    "subject = input(\"enter subject(physics,chemistry,math,english,nepali\")\n",
    "name = input(\"enter student name=\")\n",
    "db.execute(f\" SELECT {subject},total FROM students WHERE name = '{name}'\")\n",
    "result = db.fetchall()\n",
    "\n",
    "print(result)"
   ]
  },
  {
   "cell_type": "code",
   "execution_count": 6,
   "metadata": {},
   "outputs": [
    {
     "name": "stdout",
     "output_type": "stream",
     "text": [
      "enter n=2\n",
      "enter subject(physics,chemistry,math,english,nepali)physics\n",
      "enter student name =radhaa\n",
      "[(78, 78)]\n",
      "enter new marks =99\n",
      "enter subject(physics,chemistry,math,english,nepali)chemistry\n",
      "enter student name =radhaa\n",
      "[(78, 99)]\n",
      "enter new marks =88\n"
     ]
    }
   ],
   "source": [
    "n= int(input(\"enter n=\"))\n",
    "for i in range(n):\n",
    "    subject = input(\"enter subject(physics,chemistry,math,english,nepali)\")                #new marks,total,per are calculated and updated\n",
    "    name = input(\"enter student name =\")\n",
    "    db.execute(f\" SELECT {subject}, total FROM students WHERE name = '{name}'\")\n",
    "    result = db.fetchall()\n",
    "    print(result)\n",
    "\n",
    "    marks = result[0][1]\n",
    "    total = result[0][1]\n",
    "\n",
    "\n",
    "    new_marks = int(input(\"enter new marks =\"))\n",
    "    resultant_marks = new_marks-marks\n",
    "    total =resultant_marks+total\n",
    "    per = total/5\n",
    "\n",
    "    sql = f\"UPDATE students SET physics ={new_marks}, total = {total}, per = {per} WHERE name ='{name}'\"\n",
    "    db.execute(sql)\n",
    "database.commit()"
   ]
  },
  {
   "cell_type": "code",
   "execution_count": null,
   "metadata": {},
   "outputs": [],
   "source": []
  },
  {
   "cell_type": "code",
   "execution_count": 3,
   "metadata": {},
   "outputs": [],
   "source": [
    "#DELETE QUERY"
   ]
  },
  {
   "cell_type": "code",
   "execution_count": 11,
   "metadata": {},
   "outputs": [
    {
     "name": "stdout",
     "output_type": "stream",
     "text": [
      "enter name =sita\n"
     ]
    }
   ],
   "source": [
    "name = input(\"enter name =\")\n",
    "sql = f\"DELETE FROM students WHERE name ='{name}'\"\n",
    "db.execute(sql)\n",
    "database.commit()"
   ]
  },
  {
   "cell_type": "code",
   "execution_count": 13,
   "metadata": {},
   "outputs": [
    {
     "name": "stdout",
     "output_type": "stream",
     "text": [
      "enter name =hari\n"
     ]
    }
   ],
   "source": [
    "name = input(\"enter name =\")\n",
    "\n",
    "sql = f\"DELETE FROM students WHERE name ='{name}'\"\n",
    "db.execute(sql)\n",
    "database.commit()"
   ]
  },
  {
   "cell_type": "code",
   "execution_count": null,
   "metadata": {},
   "outputs": [],
   "source": []
  }
 ],
 "metadata": {
  "kernelspec": {
   "display_name": "Python 3",
   "language": "python",
   "name": "python3"
  },
  "language_info": {
   "codemirror_mode": {
    "name": "ipython",
    "version": 3
   },
   "file_extension": ".py",
   "mimetype": "text/x-python",
   "name": "python",
   "nbconvert_exporter": "python",
   "pygments_lexer": "ipython3",
   "version": "3.7.3"
  }
 },
 "nbformat": 4,
 "nbformat_minor": 2
}
