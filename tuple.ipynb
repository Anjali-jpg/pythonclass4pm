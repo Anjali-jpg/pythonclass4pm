{
 "cells": [
  {
   "cell_type": "code",
   "execution_count": null,
   "metadata": {},
   "outputs": [],
   "source": [
    "#tuple\n",
    "-indexed\n",
    "-duplicate member\n",
    "-ordered\n",
    "-immutable\n"
   ]
  },
  {
   "cell_type": "code",
   "execution_count": 1,
   "metadata": {},
   "outputs": [
    {
     "name": "stdout",
     "output_type": "stream",
     "text": [
      "(1, 2, 3)\n",
      "3\n",
      "<class 'tuple'>\n"
     ]
    }
   ],
   "source": [
    "a=(1,2,3)\n",
    "print(a)\n",
    "print(len(a))\n",
    "print(type(a))"
   ]
  },
  {
   "cell_type": "code",
   "execution_count": 2,
   "metadata": {},
   "outputs": [
    {
     "name": "stdout",
     "output_type": "stream",
     "text": [
      "(1,)\n",
      "<class 'tuple'>\n"
     ]
    }
   ],
   "source": [
    "a=(1,)\n",
    "print(a)\n",
    "print(type(a))"
   ]
  },
  {
   "cell_type": "code",
   "execution_count": 3,
   "metadata": {},
   "outputs": [
    {
     "name": "stdout",
     "output_type": "stream",
     "text": [
      "('Apple', 'ball', 'cat')\n"
     ]
    }
   ],
   "source": [
    "a=(\"Apple\",\"ball\",\"cat\")\n",
    "print(a)"
   ]
  },
  {
   "cell_type": "code",
   "execution_count": 5,
   "metadata": {},
   "outputs": [
    {
     "name": "stdout",
     "output_type": "stream",
     "text": [
      "('apple', 'ball', 'cat', 'dog')\n"
     ]
    }
   ],
   "source": [
    "a=(\"apple\",\"ball\",\"cat\")\n",
    "b=(\"dog\",)\n",
    "c=a+b\n",
    "print(c)"
   ]
  },
  {
   "cell_type": "code",
   "execution_count": 6,
   "metadata": {},
   "outputs": [
    {
     "name": "stdout",
     "output_type": "stream",
     "text": [
      "apple\n",
      "ball\n",
      "cat\n"
     ]
    }
   ],
   "source": [
    "a=(\"apple\",\"ball\",\"cat\")\n",
    "for i in a:\n",
    "    print(i)"
   ]
  },
  {
   "cell_type": "code",
   "execution_count": null,
   "metadata": {},
   "outputs": [
    {
     "name": "stdout",
     "output_type": "stream",
     "text": [
      "enter  n=2\n"
     ]
    }
   ],
   "source": [
    "l=tuple()\n",
    "\n",
    "n=int(input(\"enter  n=\"))\n",
    "for i in range(n):\n",
    "    x=input(\"enter x=\")\n",
    "    l=l+(x,)\n",
    "print(l)"
   ]
  },
  {
   "cell_type": "code",
   "execution_count": 1,
   "metadata": {},
   "outputs": [
    {
     "name": "stdout",
     "output_type": "stream",
     "text": [
      "enter  n=2\n",
      "enter x=ram\n",
      "enter age=43\n",
      "enter x=shyam\n",
      "enter age=66\n",
      "('ram', 43, 'shyam', 66)\n"
     ]
    }
   ],
   "source": [
    "l=tuple()\n",
    "\n",
    "n=int(input(\"enter  n=\"))\n",
    "for i in range(n):\n",
    "    name=input(\"enter x=\")\n",
    "    age=int(input(\"enter age=\"))\n",
    "    l=l+(name,age,)\n",
    "print(l)"
   ]
  },
  {
   "cell_type": "code",
   "execution_count": 2,
   "metadata": {},
   "outputs": [
    {
     "name": "stdout",
     "output_type": "stream",
     "text": [
      "ram\n",
      "43\n",
      "shyam\n",
      "66\n"
     ]
    }
   ],
   "source": [
    "a=('ram', 43, 'shyam', 66)\n",
    "for i in a:\n",
    "    print(i)"
   ]
  },
  {
   "cell_type": "code",
   "execution_count": null,
   "metadata": {},
   "outputs": [],
   "source": [
    "#tuple inside tuple"
   ]
  },
  {
   "cell_type": "code",
   "execution_count": 1,
   "metadata": {},
   "outputs": [
    {
     "name": "stdout",
     "output_type": "stream",
     "text": [
      "enter n=2\n",
      "enter name=ram\n",
      "enter age=55\n",
      "enter name=sita\n",
      "enter age=77\n",
      "(('ram', 55), ('sita', 77))\n"
     ]
    }
   ],
   "source": [
    "l=()\n",
    "n=int(input(\"enter n=\"))\n",
    "for i in range(n):\n",
    "    name=input(\"enter name=\")\n",
    "    age=int(input(\"enter age=\"))\n",
    "    x=(name,age)\n",
    "    l=l+(x,)\n",
    "print(l)"
   ]
  },
  {
   "cell_type": "code",
   "execution_count": null,
   "metadata": {},
   "outputs": [],
   "source": [
    "#list inside tuple"
   ]
  },
  {
   "cell_type": "code",
   "execution_count": 2,
   "metadata": {},
   "outputs": [
    {
     "name": "stdout",
     "output_type": "stream",
     "text": [
      "enter n=2\n",
      "enter name=ram\n",
      "enter age=88\n",
      "enter name=sita\n",
      "enter age=99\n",
      "(['ram', 88], ['sita', 99])\n"
     ]
    }
   ],
   "source": [
    "l=()\n",
    "n=int(input(\"enter n=\"))\n",
    "for i in range(n):\n",
    "    name=input(\"enter name=\")\n",
    "    age=int(input(\"enter age=\"))\n",
    "    x=[name,age]\n",
    "    l=l+(x,)\n",
    "print(l)"
   ]
  },
  {
   "cell_type": "code",
   "execution_count": 3,
   "metadata": {},
   "outputs": [
    {
     "name": "stdout",
     "output_type": "stream",
     "text": [
      "('ram', 55)\n",
      "('sita', 77)\n"
     ]
    }
   ],
   "source": [
    "a=(('ram', 55), ('sita', 77))\n",
    "for i in a:\n",
    "    print(i)"
   ]
  },
  {
   "cell_type": "code",
   "execution_count": 4,
   "metadata": {},
   "outputs": [
    {
     "name": "stdout",
     "output_type": "stream",
     "text": [
      "('sita', 77)\n"
     ]
    }
   ],
   "source": [
    "a=(('ram', 55), ('sita', 77))\n",
    "print(a[1])"
   ]
  },
  {
   "cell_type": "code",
   "execution_count": 5,
   "metadata": {},
   "outputs": [
    {
     "name": "stdout",
     "output_type": "stream",
     "text": [
      "[('ram', 55), ('sita', 77)]\n"
     ]
    }
   ],
   "source": [
    "a=(('ram', 55), ('sita', 77))\n",
    "b=list(a)\n",
    "print(b)"
   ]
  },
  {
   "cell_type": "code",
   "execution_count": 7,
   "metadata": {},
   "outputs": [
    {
     "name": "stdout",
     "output_type": "stream",
     "text": [
      "['apple', 'cat', 'dog']\n"
     ]
    }
   ],
   "source": [
    "a=(\"apple\",\"ball\",\"cat\",\"dog\")   #tuple can't be directly deleted\n",
    "b=list(a)\n",
    "b.remove(\"ball\")\n",
    "print(b)"
   ]
  },
  {
   "cell_type": "code",
   "execution_count": 8,
   "metadata": {},
   "outputs": [
    {
     "name": "stdout",
     "output_type": "stream",
     "text": [
      "['apple', 'cat', 'dog']\n",
      "('apple', 'cat', 'dog')\n"
     ]
    }
   ],
   "source": [
    "a=(\"apple\",\"ball\",\"cat\",\"dog\")\n",
    "b=list(a)\n",
    "b.remove(\"ball\")\n",
    "print(b)\n",
    "c=tuple(b)\n",
    "print(c)"
   ]
  },
  {
   "cell_type": "code",
   "execution_count": 9,
   "metadata": {},
   "outputs": [
    {
     "name": "stdout",
     "output_type": "stream",
     "text": [
      "yes\n"
     ]
    }
   ],
   "source": [
    "a=(\"apple\",\"ball\",\"cat\",\"dog\")\n",
    "if \"apple\" in a:\n",
    "    print(\"yes\")"
   ]
  },
  {
   "cell_type": "code",
   "execution_count": 10,
   "metadata": {},
   "outputs": [
    {
     "name": "stdout",
     "output_type": "stream",
     "text": [
      "['Ball', 'Cat', 'apple', 'dog']\n",
      "('apple', 'Ball', 'Cat', 'dog')\n"
     ]
    }
   ],
   "source": [
    "a=(\"apple\",\"Ball\",\"Cat\",\"dog\")         #sort process\n",
    "x=sorted(a)\n",
    "print(x)\n",
    "print(a)"
   ]
  },
  {
   "cell_type": "code",
   "execution_count": 14,
   "metadata": {},
   "outputs": [
    {
     "name": "stdout",
     "output_type": "stream",
     "text": [
      "[('sita', 77)]\n"
     ]
    }
   ],
   "source": [
    "a=[('ram', 55), ('sita', 77)]               #tuple doesn't directly support deletion\n",
    "del a[0]\n",
    "print(a)"
   ]
  },
  {
   "cell_type": "code",
   "execution_count": 15,
   "metadata": {},
   "outputs": [
    {
     "name": "stdout",
     "output_type": "stream",
     "text": [
      "enter r=3\n",
      "enter c=3\n",
      "enter x=ram\n",
      "enter x=sita\n",
      "enter x=hari\n",
      "enter x=kjkj\n",
      "enter x=hghghg\n",
      "enter x=iuuiiuo\n",
      "enter x=nmbm\n",
      "enter x=hjhj\n",
      "enter x=bjhj\n",
      "(('ram', 'sita', 'hari'), ('kjkj', 'hghghg', 'iuuiiuo'), ('nmbm', 'hjhj', 'bjhj'))\n"
     ]
    }
   ],
   "source": [
    "m=()\n",
    "r=int(input(\"enter r=\"))\n",
    "c=int(input(\"enter c=\"))\n",
    "for i in range(r):\n",
    "    z=()\n",
    "    for j in range(c):\n",
    "        x=input(\"enter x=\")\n",
    "        z=z+(x,)\n",
    "    m=m+(z,)\n",
    "print(m)"
   ]
  },
  {
   "cell_type": "code",
   "execution_count": 16,
   "metadata": {},
   "outputs": [
    {
     "name": "stdout",
     "output_type": "stream",
     "text": [
      "('ram', 'sita', 'hari')\n",
      "('kjkj', 'hghghg', 'iuuiiuo')\n",
      "('nmbm', 'hjhj', 'bjhj')\n"
     ]
    }
   ],
   "source": [
    "a=(('ram', 'sita', 'hari'), ('kjkj', 'hghghg', 'iuuiiuo'), ('nmbm', 'hjhj', 'bjhj'))\n",
    "for i in a:\n",
    "    print(i)"
   ]
  },
  {
   "cell_type": "code",
   "execution_count": 18,
   "metadata": {},
   "outputs": [
    {
     "name": "stdout",
     "output_type": "stream",
     "text": [
      "[('ram', 'sita', 'hari'), ('kjkj', 'hghghg', 'iuuiiuo'), ('nmbm', 'hjhj', 'bjhj')]\n"
     ]
    }
   ],
   "source": [
    "a=(('ram', 'sita', 'hari'), ('kjkj', 'hghghg', 'iuuiiuo'), ('nmbm', 'hjhj', 'bjhj'))\n",
    "b=list(a)\n",
    "print(b)"
   ]
  },
  {
   "cell_type": "code",
   "execution_count": 20,
   "metadata": {},
   "outputs": [
    {
     "name": "stdout",
     "output_type": "stream",
     "text": [
      "[('kjkj', 'hghghg', 'iuuiiuo'), ('nmbm', 'hjhj', 'bjhj')]\n"
     ]
    }
   ],
   "source": [
    "a=(('ram', 'sita', 'hari'), ('kjkj', 'hghghg', 'iuuiiuo'), ('nmbm', 'hjhj', 'bjhj'))\n",
    "b=list(a)\n",
    "b.remove(b[0])\n",
    "print(b)"
   ]
  },
  {
   "cell_type": "code",
   "execution_count": 21,
   "metadata": {},
   "outputs": [
    {
     "name": "stdout",
     "output_type": "stream",
     "text": [
      "[('kjkj', 'hghghg', 'iuuiiuo'), ('nmbm', 'hjhj', 'bjhj'), ('ram', 'sita', 'hari')]\n"
     ]
    }
   ],
   "source": [
    "a=(('ram', 'sita', 'hari'), ('kjkj', 'hghghg', 'iuuiiuo'), ('nmbm', 'hjhj', 'bjhj'))\n",
    "b=list(a)\n",
    "x=sorted(b)\n",
    "print(x)"
   ]
  },
  {
   "cell_type": "code",
   "execution_count": null,
   "metadata": {},
   "outputs": [],
   "source": []
  }
 ],
 "metadata": {
  "kernelspec": {
   "display_name": "Python 3",
   "language": "python",
   "name": "python3"
  },
  "language_info": {
   "codemirror_mode": {
    "name": "ipython",
    "version": 3
   },
   "file_extension": ".py",
   "mimetype": "text/x-python",
   "name": "python",
   "nbconvert_exporter": "python",
   "pygments_lexer": "ipython3",
   "version": "3.7.3"
  }
 },
 "nbformat": 4,
 "nbformat_minor": 2
}
