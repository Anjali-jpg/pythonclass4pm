{
 "cells": [
  {
   "cell_type": "code",
   "execution_count": null,
   "metadata": {},
   "outputs": [],
   "source": [
    "# Inheritance = it is capability to derive or inherit one class properties from some other class.\n",
    "         #     = It provides reusability of code.\n",
    "    \n",
    "# parent  class = it is class being inherited from, also called base class.\n",
    "# child class = it is class that is inherited, called derived class.\n"
   ]
  },
  {
   "cell_type": "code",
   "execution_count": null,
   "metadata": {},
   "outputs": [],
   "source": [
    "# There are 2 types of inheritance:\n",
    "#- Multi-level\n",
    "\n",
    "#- Multiple"
   ]
  },
  {
   "cell_type": "code",
   "execution_count": 1,
   "metadata": {},
   "outputs": [
    {
     "name": "stdout",
     "output_type": "stream",
     "text": [
      "this is class A\n",
      "this is class B\n"
     ]
    }
   ],
   "source": [
    "class A:\n",
    "    print(\"this is class A\")\n",
    "    \n",
    "class B(A):\n",
    "    print(\"this is class B\")\n",
    "    \n",
    "obj =B()"
   ]
  },
  {
   "cell_type": "code",
   "execution_count": 4,
   "metadata": {},
   "outputs": [
    {
     "name": "stdout",
     "output_type": "stream",
     "text": [
      "this is class A\n",
      "this is class B\n"
     ]
    }
   ],
   "source": [
    "class A:\n",
    "    def a(self):\n",
    "        print(\"this is class A\")\n",
    "    \n",
    "class B(A):\n",
    "    def b(self):\n",
    "        print(\"this is class B\")\n",
    "    \n",
    "obj =B()\n",
    "obj.a()\n",
    "obj.b()"
   ]
  },
  {
   "cell_type": "code",
   "execution_count": 10,
   "metadata": {},
   "outputs": [
    {
     "name": "stdout",
     "output_type": "stream",
     "text": [
      "enter name = ram\n",
      "enter add = 33\n",
      "hello i am ram and i am from 33\n"
     ]
    }
   ],
   "source": [
    "class Info:\n",
    "    def __init__(self):\n",
    "        self.name = input(\"enter name = \")\n",
    "        self.add = input(\"enter add = \")\n",
    "        \n",
    "class Office(Info):\n",
    "    def my_info(self):\n",
    "        print(f\"hello i am {self.name} and i am from {self.add}\")\n",
    "        \n",
    "\n",
    "obj = Office()\n",
    "obj.my_info()"
   ]
  },
  {
   "cell_type": "code",
   "execution_count": 11,
   "metadata": {},
   "outputs": [
    {
     "name": "stdout",
     "output_type": "stream",
     "text": [
      "enter name = ram\n",
      "enter add = 55\n",
      "hello i am ram and i am from 55\n"
     ]
    }
   ],
   "source": [
    "class Info:\n",
    "    def __init__(self,name,add):\n",
    "        self.name = name\n",
    "        self.add = add\n",
    "        \n",
    "class Office(Info):\n",
    "        \n",
    "    def my_info(self):\n",
    "        print(f\"hello i am {self.name} and i am from {self.add}\")\n",
    "        \n",
    "name = input(\"enter name = \")\n",
    "add = input(\"enter add = \")\n",
    "\n",
    "obj = Office(name,add)\n",
    "obj.my_info()"
   ]
  },
  {
   "cell_type": "code",
   "execution_count": 18,
   "metadata": {},
   "outputs": [
    {
     "name": "stdout",
     "output_type": "stream",
     "text": [
      "enter name = ram\n",
      "enter add = ktm\n",
      "enter age =55\n",
      "hello i am ram and i am from ktm and i am 55\n"
     ]
    }
   ],
   "source": [
    "class Info:\n",
    "    def __init__(self,name,add):\n",
    "        self.name = name\n",
    "        self.add = add\n",
    "        \n",
    "class Office(Info):\n",
    "    def __init__(self,name,add,age):\n",
    "        Info.__init__(self,name,add)\n",
    "        self.age = age\n",
    "        \n",
    "    def my_info(self):\n",
    "        print(f\"hello i am {self.name} and i am from {self.add} and i am {self.age}\")\n",
    "        \n",
    "name = input(\"enter name = \")\n",
    "add = input(\"enter add = \")\n",
    "age = input(\"enter age =\")\n",
    "\n",
    "obj = Office(name,add,age)\n",
    "obj.my_info()"
   ]
  },
  {
   "cell_type": "code",
   "execution_count": 20,
   "metadata": {},
   "outputs": [
    {
     "name": "stdout",
     "output_type": "stream",
     "text": [
      "enter name = ram\n",
      "enter add = ktm\n",
      "enter age =33\n",
      "hello i am ram and i am from ktm and i am 33\n"
     ]
    }
   ],
   "source": [
    "class Address:\n",
    "    def __init__(self,add):\n",
    "         self.add = add\n",
    "        \n",
    "class Info(Address):\n",
    "    def __init__(self,name,add):\n",
    "        Address.__init__(self,add)\n",
    "        self.name = name\n",
    "       \n",
    "        \n",
    "class Office(Info):\n",
    "    def __init__(self,name,add,age):\n",
    "        Info.__init__(self,name,add)\n",
    "        self.age = age\n",
    "        \n",
    "    def my_info(self):\n",
    "        print(f\"hello i am {self.name} and i am from {self.add} and i am {self.age}\")\n",
    "        \n",
    "name = input(\"enter name = \")\n",
    "add = input(\"enter add = \")\n",
    "age = input(\"enter age =\")\n",
    "\n",
    "obj = Office(name,add,age)\n",
    "obj.my_info()"
   ]
  },
  {
   "cell_type": "code",
   "execution_count": null,
   "metadata": {},
   "outputs": [],
   "source": [
    "#Multi-level Inheritance"
   ]
  },
  {
   "cell_type": "code",
   "execution_count": 21,
   "metadata": {},
   "outputs": [
    {
     "name": "stdout",
     "output_type": "stream",
     "text": [
      "enter name = ram\n",
      "enter add = ktm\n",
      "enter age =77\n",
      "hello i am ram and i am from ktm and i am 77\n"
     ]
    }
   ],
   "source": [
    "class Address:\n",
    "    def __init__(self,add):\n",
    "         self.add = add\n",
    "        \n",
    "class Info(Address):\n",
    "    def __init__(self,name):\n",
    "        \n",
    "        self.name = name\n",
    "       \n",
    "        \n",
    "class Office(Info,Address):\n",
    "    def __init__(self,name,add,age):\n",
    "        Info.__init__(self,name)\n",
    "        Address.__init__(self,add)\n",
    "        self.age = age\n",
    "        \n",
    "    def my_info(self):\n",
    "        print(f\"hello i am {self.name} and i am from {self.add} and i am {self.age}\")\n",
    "        \n",
    "name = input(\"enter name = \")\n",
    "add = input(\"enter add = \")\n",
    "age = input(\"enter age =\")\n",
    "\n",
    "obj = Office(name,add,age)\n",
    "obj.my_info()"
   ]
  },
  {
   "cell_type": "code",
   "execution_count": null,
   "metadata": {},
   "outputs": [],
   "source": [
    "#python \n",
    "#public - that are accessible from outside the class.\n",
    "#protected - which are accessible within class and also available with in sub-class.\n",
    "#public - which are denied from outside with the class."
   ]
  },
  {
   "cell_type": "code",
   "execution_count": 24,
   "metadata": {},
   "outputs": [
    {
     "name": "stdout",
     "output_type": "stream",
     "text": [
      "enter name = ram\n",
      "enter add = ktm\n",
      "ram\n",
      "ktm\n"
     ]
    }
   ],
   "source": [
    "class Info:              # public\n",
    "    def __init__(self):\n",
    "        self.name = input(\"enter name = \")\n",
    "        self.add = input(\"enter add = \")\n",
    "        \n",
    "obj = Info()   \n",
    "print(obj.name)\n",
    "print(obj.add)"
   ]
  },
  {
   "cell_type": "code",
   "execution_count": 25,
   "metadata": {},
   "outputs": [
    {
     "name": "stdout",
     "output_type": "stream",
     "text": [
      "enter name = ram\n",
      "enter add = ktm\n",
      "ram\n",
      "ktm\n"
     ]
    }
   ],
   "source": [
    "class Info:              # protected\n",
    "    def __init__(self):\n",
    "        self._name = input(\"enter name = \")\n",
    "        self._add = input(\"enter add = \")\n",
    "        \n",
    "obj = Info()   \n",
    "print(obj._name)\n",
    "print(obj._add)"
   ]
  },
  {
   "cell_type": "code",
   "execution_count": 26,
   "metadata": {},
   "outputs": [
    {
     "name": "stdout",
     "output_type": "stream",
     "text": [
      "enter name = ram\n",
      "enter add = ktm\n"
     ]
    },
    {
     "ename": "AttributeError",
     "evalue": "'Info' object has no attribute '__name'",
     "output_type": "error",
     "traceback": [
      "\u001b[1;31m---------------------------------------------------------------------------\u001b[0m",
      "\u001b[1;31mAttributeError\u001b[0m                            Traceback (most recent call last)",
      "\u001b[1;32m<ipython-input-26-fca9ed5c067d>\u001b[0m in \u001b[0;36m<module>\u001b[1;34m\u001b[0m\n\u001b[0;32m      5\u001b[0m \u001b[1;33m\u001b[0m\u001b[0m\n\u001b[0;32m      6\u001b[0m \u001b[0mobj\u001b[0m \u001b[1;33m=\u001b[0m \u001b[0mInfo\u001b[0m\u001b[1;33m(\u001b[0m\u001b[1;33m)\u001b[0m\u001b[1;33m\u001b[0m\u001b[1;33m\u001b[0m\u001b[0m\n\u001b[1;32m----> 7\u001b[1;33m \u001b[0mprint\u001b[0m\u001b[1;33m(\u001b[0m\u001b[0mobj\u001b[0m\u001b[1;33m.\u001b[0m\u001b[0m__name\u001b[0m\u001b[1;33m)\u001b[0m\u001b[1;33m\u001b[0m\u001b[1;33m\u001b[0m\u001b[0m\n\u001b[0m\u001b[0;32m      8\u001b[0m \u001b[0mprint\u001b[0m\u001b[1;33m(\u001b[0m\u001b[0mobj\u001b[0m\u001b[1;33m.\u001b[0m\u001b[0m__add\u001b[0m\u001b[1;33m)\u001b[0m\u001b[1;33m\u001b[0m\u001b[1;33m\u001b[0m\u001b[0m\n",
      "\u001b[1;31mAttributeError\u001b[0m: 'Info' object has no attribute '__name'"
     ]
    }
   ],
   "source": [
    "class Info:              # private,,error arrived bcz it cant be accessed publicly\n",
    "    def __init__(self):\n",
    "        self.__name = input(\"enter name = \")\n",
    "        self.__add = input(\"enter add = \")\n",
    "        \n",
    "obj = Info()   \n",
    "print(obj.__name)\n",
    "print(obj.__add)"
   ]
  },
  {
   "cell_type": "code",
   "execution_count": 29,
   "metadata": {},
   "outputs": [
    {
     "name": "stdout",
     "output_type": "stream",
     "text": [
      "enter name = ram\n",
      "enter add = kym\n",
      "ram\n",
      "kym\n"
     ]
    }
   ],
   "source": [
    "class Info:             #in order to access private data\n",
    "    def __init__(self):\n",
    "        self.__name = input(\"enter name = \")\n",
    "        self.__add = input(\"enter add = \")\n",
    "        \n",
    "obj = Info()   \n",
    "print(obj._Info__name)\n",
    "print(obj._Info__add)"
   ]
  },
  {
   "cell_type": "code",
   "execution_count": 30,
   "metadata": {},
   "outputs": [
    {
     "name": "stdout",
     "output_type": "stream",
     "text": [
      "enter name = ram\n",
      "enter add = ktm\n",
      "enter age =99\n",
      "hello i am ram and i am from ktm and i am 99\n"
     ]
    }
   ],
   "source": [
    "class Address:                           #public,protected,private\n",
    "    def __init__(self,add):\n",
    "         self.add = add\n",
    "        \n",
    "class Info(Address):\n",
    "    def __init__(self,name,add):\n",
    "        Address.__init__(self,add)\n",
    "        self._name = name\n",
    "       \n",
    "        \n",
    "class Office(Info):\n",
    "    def __init__(self,name,add,age):\n",
    "        Info.__init__(self,name,add)\n",
    "        self.__age = age\n",
    "        \n",
    "    def my_info(self):\n",
    "        print(f\"hello i am {self._name} and i am from {self.add} and i am {self.__age}\")\n",
    "        \n",
    "name = input(\"enter name = \")\n",
    "add = input(\"enter add = \")\n",
    "age = input(\"enter age =\")\n",
    "\n",
    "obj = Office(name,add,age)\n",
    "obj.my_info()"
   ]
  },
  {
   "cell_type": "code",
   "execution_count": null,
   "metadata": {},
   "outputs": [],
   "source": [
    "#super function"
   ]
  },
  {
   "cell_type": "code",
   "execution_count": 33,
   "metadata": {},
   "outputs": [
    {
     "name": "stdout",
     "output_type": "stream",
     "text": [
      "enter name = ram\n",
      "enter add = ktm\n",
      "enter age =66\n",
      "hello i am ram and i am from ktm and i am 66\n",
      "ktm\n"
     ]
    }
   ],
   "source": [
    "class Address:                           #public,protected,private\n",
    "    def __init__(self,add):\n",
    "         self.add = add\n",
    "            \n",
    "    def address(self):\n",
    "            return self.add\n",
    "        \n",
    "class Info(Address):\n",
    "    def __init__(self,name,add):\n",
    "        Address.__init__(self,add)\n",
    "        self._name = name\n",
    "       \n",
    "        \n",
    "class Office(Info):\n",
    "    def __init__(self,name,add,age):\n",
    "        Info.__init__(self,name,add)\n",
    "        self.__age = age\n",
    "        \n",
    "    def my_info(self):\n",
    "        print(f\"hello i am {self._name} and i am from {self.add} and i am {self.__age}\")\n",
    "        print(super().address())\n",
    "        \n",
    "name = input(\"enter name = \")\n",
    "add = input(\"enter add = \")\n",
    "age = input(\"enter age =\")\n",
    "\n",
    "obj = Office(name,add,age)\n",
    "obj.my_info()"
   ]
  },
  {
   "cell_type": "code",
   "execution_count": 35,
   "metadata": {},
   "outputs": [
    {
     "name": "stdout",
     "output_type": "stream",
     "text": [
      "enter name = ram\n",
      "enter add = hh\n",
      "enter age =77\n",
      "hello i am ram and i am from hh and i am 77\n",
      "hh\n"
     ]
    }
   ],
   "source": [
    "class Address:                           #public,protected,private\n",
    "    def __init__(self,add):\n",
    "         self.add = add\n",
    "            \n",
    "    def address(self):\n",
    "            return self.add\n",
    "        \n",
    "class Info(Address):\n",
    "    def __init__(self,name,add):\n",
    "        Address.__init__(self,add)\n",
    "        self._name = name\n",
    "       \n",
    "        \n",
    "class Office(Info):\n",
    "    def __init__(self,name,add,age):\n",
    "        Info.__init__(self,name,add)\n",
    "        self.__age = age\n",
    "        \n",
    "    def my_info(self):\n",
    "        print(f\"hello i am {self._name} and i am from {self.add} and i am {self.__age}\")\n",
    "        print(Address.address(self))\n",
    "        \n",
    "name = input(\"enter name = \")\n",
    "add = input(\"enter add = \")\n",
    "age = input(\"enter age =\")\n",
    "\n",
    "obj = Office(name,add,age)\n",
    "obj.my_info()"
   ]
  },
  {
   "cell_type": "code",
   "execution_count": null,
   "metadata": {},
   "outputs": [],
   "source": [
    "#DECORATOR"
   ]
  },
  {
   "cell_type": "code",
   "execution_count": 1,
   "metadata": {},
   "outputs": [
    {
     "name": "stdout",
     "output_type": "stream",
     "text": [
      "hello world\n"
     ]
    }
   ],
   "source": [
    "def outer_function(fun):\n",
    "    def inner_function():\n",
    "        x = fun()\n",
    "    return inner_function()\n",
    "@outer_function\n",
    "def hello():\n",
    "    print(\"hello world\")"
   ]
  },
  {
   "cell_type": "code",
   "execution_count": 7,
   "metadata": {},
   "outputs": [
    {
     "ename": "IndentationError",
     "evalue": "unindent does not match any outer indentation level (<tokenize>, line 13)",
     "output_type": "error",
     "traceback": [
      "\u001b[1;36m  File \u001b[1;32m\"<tokenize>\"\u001b[1;36m, line \u001b[1;32m13\u001b[0m\n\u001b[1;33m    return wrappe\u001b[0m\n\u001b[1;37m    ^\u001b[0m\n\u001b[1;31mIndentationError\u001b[0m\u001b[1;31m:\u001b[0m unindent does not match any outer indentation level\n"
     ]
    }
   ],
   "source": [
    "def strings(function):\n",
    "    def wrapper():\n",
    "          fun = function()\n",
    "              x = fun.lower()\n",
    "                return x\n",
    "    return wrapper\n",
    "def split_string(function):\n",
    "     def wrappe():\n",
    "             func = function()\n",
    "                  splitted_string = func.split()\n",
    "                      return splitted_string\n",
    "   \n",
    "        return wrappe\n",
    "@split_string\n",
    "@strings\n",
    "def info():\n",
    "     return 'Hellow World'\n",
    "info()"
   ]
  },
  {
   "cell_type": "code",
   "execution_count": null,
   "metadata": {},
   "outputs": [],
   "source": []
  },
  {
   "cell_type": "code",
   "execution_count": null,
   "metadata": {},
   "outputs": [],
   "source": []
  }
 ],
 "metadata": {
  "kernelspec": {
   "display_name": "Python 3",
   "language": "python",
   "name": "python3"
  },
  "language_info": {
   "codemirror_mode": {
    "name": "ipython",
    "version": 3
   },
   "file_extension": ".py",
   "mimetype": "text/x-python",
   "name": "python",
   "nbconvert_exporter": "python",
   "pygments_lexer": "ipython3",
   "version": "3.7.3"
  }
 },
 "nbformat": 4,
 "nbformat_minor": 2
}
